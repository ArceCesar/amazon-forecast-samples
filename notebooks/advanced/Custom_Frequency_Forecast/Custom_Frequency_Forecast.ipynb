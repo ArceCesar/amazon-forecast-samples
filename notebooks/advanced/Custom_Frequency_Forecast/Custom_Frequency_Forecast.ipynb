{
 "cells": [
  {
   "cell_type": "markdown",
   "id": "362aa6c7",
   "metadata": {
    "tags": []
   },
   "source": [
    "# Introducing Custom Time Frequency Support\n",
    "\n",
    "Prior to this feature release, customers were able to train a time-series model and produce forecasts against a specific set of time-intervals which Amazon Forecast refers to as ForecastFrequency.  As described [here](https://docs.aws.amazon.com/forecast/latest/dg/howitworks-predictor.html) forecasting frequencies are in the form of time units that range from minutes, to hours, and up to a year.\n",
    "\n",
    "With this new feature release, we are extending the concept of frequency units to include a range of allowed values.  This allows you to select a frequency unit together with a value.  The following table explains the valid list of frequency units for each time-scale unit:\n",
    "\n",
    "|Code|Frequency units|Allowed values|\n",
    "|--|--|--|\n",
    "|MIN|Minute|1-59|\n",
    "|H|Hour|1-23|\n",
    "|D|Day|1-6|\n",
    "|W|Week|1-4|\n",
    "|M|Month|1-11|\n",
    "|Y|Year|1|\n",
    "\n",
    "Given this new model, you can create a wider range of forecasting intervals according to your business use case.  When it comes to workforce planning, one customer may want to forecast at 8-hour shift intervals.  In a financial or demand forecasting scenario, a business might want to produce quarterly forecasts.   These scenarios can be achieved with codes of 8H and 3M, repsectively.  Now that the complete set of intervals are known, you can choose something to fit your specific use-case.  There are no API changes with this release; we simple allow more values in the existing API request.\n",
    "\n",
    "This notebooks provides an example of producing a forecast at a quarterly basis having data at the daily basis.  In addition, with the same dataset, another short-term forecast is demonstrated by having seven 3-day forecasts.  The use-case with the short-term forecast might be ordering perishable items every 3-days.  This would help anticipate what the purchase orders would look like.\n",
    "\n",
    "As before, certain rules about forecast frequency still apply.  The forecasting frequency should always be greater than or equal to the Data frequency provided for the Target Time series dataset if Related Timeseries data is not present. Also, if RTS is present, the data frequency of RTS dataset should match the forecast frequency. \n",
    "\n",
    "\n",
    "## Table of Contents\n",
    "* [Pre-requisites](#prerequisites)\n",
    "* Step 1: [Import your data](#import)\n",
    "* Step 2: [Train a predictor](#predictor)\n",
    "* Step 3: [Generate forecasts](#forecast)\n",
    "* Step 4: [Query/View the forecasts](#query)\n",
    "* [Clean-up](#cleanup)"
   ]
  },
  {
   "cell_type": "markdown",
   "id": "a4c3bb2d",
   "metadata": {
    "tags": []
   },
   "source": [
    "## Pre-requisites <a class=\"anchor\" id=\"prerequisites\"></a>\n",
    "Before we get started, lets set up the notebook environment, the AWS SDK client for Amazon Forecast and IAM Role used by Amazon Forecast to access your data."
   ]
  },
  {
   "cell_type": "markdown",
   "id": "f3209379",
   "metadata": {},
   "source": [
    "#### Setup  Environment"
   ]
  },
  {
   "cell_type": "code",
   "execution_count": 1,
   "id": "936e00a4",
   "metadata": {},
   "outputs": [],
   "source": [
    "%%capture --no-stderr setup\n",
    "\n",
    "!pip install pandas s3fs matplotlib ipywidgets\n",
    "!pip install boto3 --upgrade\n",
    "\n",
    "%reload_ext autoreload"
   ]
  },
  {
   "cell_type": "markdown",
   "id": "e2a45e93",
   "metadata": {},
   "source": [
    "#### Setup Imports"
   ]
  },
  {
   "cell_type": "code",
   "execution_count": 2,
   "id": "b5d98662",
   "metadata": {},
   "outputs": [],
   "source": [
    "import sys\n",
    "import os\n",
    "\n",
    "sys.path.insert( 0, os.path.abspath(\"../../common\") )\n",
    "\n",
    "import json\n",
    "import util\n",
    "import boto3\n",
    "import s3fs\n",
    "import pandas as pd"
   ]
  },
  {
   "cell_type": "markdown",
   "id": "9c5a6267",
   "metadata": {},
   "source": [
    "Configure the S3 bucket name and region name for this lesson.\n",
    "\n",
    "- If you don't have an S3 bucket, create it first on S3.\n",
    "- Although we have set the region to us-west-2 as a default value below, you can choose any of the regions that the service is available in."
   ]
  },
  {
   "cell_type": "code",
   "execution_count": 3,
   "id": "99aa4cbe",
   "metadata": {},
   "outputs": [],
   "source": [
    "bucket_name = 'input your existing S3 bucket name'\n",
    "region = 'us-west-2'"
   ]
  },
  {
   "cell_type": "markdown",
   "id": "3228f0c2",
   "metadata": {},
   "source": [
    "#### Create an instance of AWS SDK client for Amazon Forecast"
   ]
  },
  {
   "cell_type": "code",
   "execution_count": 4,
   "id": "38c1c801",
   "metadata": {},
   "outputs": [],
   "source": [
    "session = boto3.Session(region_name=region)\n",
    "s3 = session.client('s3')\n",
    "forecast = session.client(service_name='forecast') \n",
    "forecastquery = session.client(service_name='forecastquery')"
   ]
  },
  {
   "cell_type": "markdown",
   "id": "6dbb836e",
   "metadata": {},
   "source": [
    "#### Get IAM Role Amazon Forecast will use to access your data"
   ]
  },
  {
   "cell_type": "code",
   "execution_count": 5,
   "id": "0cd5d896",
   "metadata": {},
   "outputs": [],
   "source": [
    "from sagemaker import get_execution_role\n",
    "role_arn = get_execution_role()"
   ]
  },
  {
   "cell_type": "markdown",
   "id": "c432d732",
   "metadata": {},
   "source": [
    "## Step 1: Import your data. <a class=\"anchor\" id=\"import\"></a>\n",
    "\n",
    "In this step, we will create a **Dataset** and **Import** the data from S3 to Amazon Forecast. To train a Predictor we will need a **DatasetGroup** that groups the input **Datasets**. So, we will end this step by creating a **DatasetGroup** with the imported **Dataset**."
   ]
  },
  {
   "cell_type": "markdown",
   "id": "7aec48ea",
   "metadata": {},
   "source": [
    "#### Peek at the data and upload it to S3.\n",
    "\n",
    "Here, we will view the dataset locally, then upload the file to Amazon S3. Amazon Forecast consumes input data from S3.\n",
    "    \n",
    "A sample [Target Time Series](https://github.com/aws-samples/amazon-forecast-samples/blob/main/library/content/TargetTimeSeries.md) (TTS) is provided.  Please visit the links here to learn more about target and related time series."
   ]
  },
  {
   "cell_type": "code",
   "execution_count": 6,
   "id": "5d61be0c",
   "metadata": {},
   "outputs": [
    {
     "data": {
      "text/html": [
       "<div>\n",
       "<style scoped>\n",
       "    .dataframe tbody tr th:only-of-type {\n",
       "        vertical-align: middle;\n",
       "    }\n",
       "\n",
       "    .dataframe tbody tr th {\n",
       "        vertical-align: top;\n",
       "    }\n",
       "\n",
       "    .dataframe thead th {\n",
       "        text-align: right;\n",
       "    }\n",
       "</style>\n",
       "<table border=\"1\" class=\"dataframe\">\n",
       "  <thead>\n",
       "    <tr style=\"text-align: right;\">\n",
       "      <th></th>\n",
       "      <th>timestamp</th>\n",
       "      <th>item_id</th>\n",
       "      <th>target_value</th>\n",
       "    </tr>\n",
       "  </thead>\n",
       "  <tbody>\n",
       "    <tr>\n",
       "      <th>0</th>\n",
       "      <td>2017-12-01 00:00:00</td>\n",
       "      <td>4</td>\n",
       "      <td>27</td>\n",
       "    </tr>\n",
       "    <tr>\n",
       "      <th>1</th>\n",
       "      <td>2017-12-01 00:00:00</td>\n",
       "      <td>7</td>\n",
       "      <td>36</td>\n",
       "    </tr>\n",
       "    <tr>\n",
       "      <th>2</th>\n",
       "      <td>2017-12-01 00:00:00</td>\n",
       "      <td>10</td>\n",
       "      <td>2</td>\n",
       "    </tr>\n",
       "    <tr>\n",
       "      <th>3</th>\n",
       "      <td>2017-12-01 00:00:00</td>\n",
       "      <td>12</td>\n",
       "      <td>1</td>\n",
       "    </tr>\n",
       "    <tr>\n",
       "      <th>4</th>\n",
       "      <td>2017-12-01 00:00:00</td>\n",
       "      <td>13</td>\n",
       "      <td>61</td>\n",
       "    </tr>\n",
       "  </tbody>\n",
       "</table>\n",
       "</div>"
      ],
      "text/plain": [
       "             timestamp  item_id  target_value\n",
       "0  2017-12-01 00:00:00        4            27\n",
       "1  2017-12-01 00:00:00        7            36\n",
       "2  2017-12-01 00:00:00       10             2\n",
       "3  2017-12-01 00:00:00       12             1\n",
       "4  2017-12-01 00:00:00       13            61"
      ]
     },
     "execution_count": 6,
     "metadata": {},
     "output_type": "execute_result"
    }
   ],
   "source": [
    "df_tts = pd.read_csv('./data/sample_demand.csv', low_memory=False)\n",
    "df_tts.head(5)"
   ]
  },
  {
   "cell_type": "markdown",
   "id": "2e561cbc",
   "metadata": {},
   "source": [
    "Upload this file to Amazon S3"
   ]
  },
  {
   "cell_type": "code",
   "execution_count": 7,
   "id": "b7208c68",
   "metadata": {},
   "outputs": [],
   "source": [
    "project = \"custom_frequency\"\n",
    "\n",
    "key_tts = \"%s/sample_demand.csv\" % project\n",
    "\n",
    "s3.upload_file( Filename=\"./data/sample_demand.csv\", Bucket=bucket_name, Key=key_tts )\n",
    "\n",
    "s3_data_path_tts = \"s3://\" + bucket_name + \"/\" + key_tts"
   ]
  },
  {
   "cell_type": "markdown",
   "id": "11238613",
   "metadata": {},
   "source": [
    "#### Creating the Dataset"
   ]
  },
  {
   "cell_type": "code",
   "execution_count": 8,
   "id": "df5b04e4",
   "metadata": {},
   "outputs": [
    {
     "name": "stdout",
     "output_type": "stream",
     "text": [
      "The dataset is now ACTIVE.\n"
     ]
    }
   ],
   "source": [
    "DATASET_FREQUENCY = \"H\" # H for hourly\n",
    "\n",
    "TS_DATASET_NAME = \"CUSTOM_FREQUENCY_TS\"\n",
    "TS_SCHEMA = {\n",
    "   \"Attributes\":[\n",
    "      {\n",
    "         \"AttributeName\":\"timestamp\",\n",
    "         \"AttributeType\":\"timestamp\"\n",
    "      },\n",
    "      {\n",
    "         \"AttributeName\":\"item_id\",\n",
    "         \"AttributeType\":\"string\"\n",
    "      },\n",
    "      {\n",
    "         \"AttributeName\":\"target_value\",\n",
    "         \"AttributeType\":\"integer\"\n",
    "      }\n",
    "   ]\n",
    "}\n",
    "\n",
    "create_dataset_response = forecast.create_dataset(Domain=\"CUSTOM\",\n",
    "                                                  DatasetType='TARGET_TIME_SERIES',\n",
    "                                                  DatasetName=TS_DATASET_NAME,\n",
    "                                                  DataFrequency=DATASET_FREQUENCY,\n",
    "                                                  Schema=TS_SCHEMA)\n",
    "\n",
    "ts_dataset_arn = create_dataset_response['DatasetArn']\n",
    "describe_dataset_response = forecast.describe_dataset(DatasetArn=ts_dataset_arn)\n",
    "\n",
    "print(f\"The dataset is now {describe_dataset_response['Status']}.\")"
   ]
  },
  {
   "cell_type": "markdown",
   "id": "befaf753",
   "metadata": {},
   "source": [
    "#### Importing the Dataset"
   ]
  },
  {
   "cell_type": "code",
   "execution_count": 9,
   "id": "3b56afb1",
   "metadata": {},
   "outputs": [
    {
     "name": "stdout",
     "output_type": "stream",
     "text": [
      "Waiting for Dataset Import Job with to become ACTIVE. This process could take 5-10 minutes.\n",
      "\n",
      "Current Status:\n",
      "CREATE_PENDING .\n",
      "CREATE_IN_PROGRESS .........................................................................\n",
      "ACTIVE \n",
      "\n",
      "\n",
      "The Dataset Import Job with is now ACTIVE.\n"
     ]
    }
   ],
   "source": [
    "TIMESTAMP_FORMAT = \"yyyy-MM-dd HH:mm:ss\"\n",
    "TS_IMPORT_JOB_NAME = \"PRODUCT_TTS_IMPORT\"\n",
    "\n",
    "ts_dataset_import_job_response = \\\n",
    "    forecast.create_dataset_import_job(DatasetImportJobName=TS_IMPORT_JOB_NAME,\n",
    "                                       DatasetArn=ts_dataset_arn,\n",
    "                                       DataSource= {\n",
    "                                         \"S3Config\" : {\n",
    "                                             \"Path\": s3_data_path_tts,\n",
    "                                             \"RoleArn\": role_arn\n",
    "                                         } \n",
    "                                       },\n",
    "                                       TimestampFormat=TIMESTAMP_FORMAT)\n",
    "\n",
    "ts_dataset_import_job_arn = ts_dataset_import_job_response['DatasetImportJobArn']\n",
    "\n",
    "print(f\"Waiting for Dataset Import Job with to become ACTIVE. This process could take 5-10 minutes.\\n\\nCurrent Status:\")\n",
    "\n",
    "status = util.wait(lambda: forecast.describe_dataset_import_job(DatasetImportJobArn=ts_dataset_import_job_arn))"
   ]
  },
  {
   "cell_type": "markdown",
   "id": "356ffa58",
   "metadata": {},
   "source": [
    "#### Creating a DatasetGroup"
   ]
  },
  {
   "cell_type": "code",
   "execution_count": 10,
   "id": "33b2934f",
   "metadata": {},
   "outputs": [
    {
     "name": "stdout",
     "output_type": "stream",
     "text": [
      "The DatasetGroup is now ACTIVE.\n"
     ]
    }
   ],
   "source": [
    "DATASET_GROUP_NAME = \"CUSTOM_FREQUENCY_DEMO\"\n",
    "DATASET_ARNS = [ts_dataset_arn]\n",
    "\n",
    "create_dataset_group_response = \\\n",
    "    forecast.create_dataset_group(Domain=\"CUSTOM\",\n",
    "                                  DatasetGroupName=DATASET_GROUP_NAME,\n",
    "                                  DatasetArns=DATASET_ARNS)\n",
    "\n",
    "dataset_group_arn = create_dataset_group_response['DatasetGroupArn']\n",
    "describe_dataset_group_response = forecast.describe_dataset_group(DatasetGroupArn=dataset_group_arn)\n",
    "\n",
    "print(f\"The DatasetGroup is now {describe_dataset_group_response['Status']}.\")"
   ]
  },
  {
   "cell_type": "markdown",
   "id": "81aa2c7b",
   "metadata": {},
   "source": [
    "## Step 2: Train a predictor <a class=\"anchor\" id=\"predictor\"></a>\n",
    "\n",
    "In this step, we will create a **Predictor** using the **DatasetGroup** that was created above. After creating the predictor, we will review the accuracy obtained through the backtesting process to get a quantitative understanding of the performance of the predictor."
   ]
  },
  {
   "cell_type": "markdown",
   "id": "83a81102",
   "metadata": {},
   "source": [
    "#### Train a predictor to help generate short term purchase orders\n",
    "\n",
    "In this example a \"3-day\" order is created to meet the demand of three days.  In addition, the request is for 7 series of these, giving a total of 21 day coverage."
   ]
  },
  {
   "cell_type": "code",
   "execution_count": 12,
   "id": "a7a8117d",
   "metadata": {},
   "outputs": [],
   "source": [
    "PREDICTOR_NAME = \"PURCHASE_ORDER_PREDICTOR\"\n",
    "FORECAST_HORIZON = 7\n",
    "FORECAST_FREQUENCY = \"3D\"\n",
    "\n",
    "create_auto_predictor_response = \\\n",
    "    forecast.create_auto_predictor(PredictorName = PREDICTOR_NAME,\n",
    "                                   ForecastHorizon = FORECAST_HORIZON,\n",
    "                                   ForecastFrequency = FORECAST_FREQUENCY,\n",
    "                                   DataConfig = {\n",
    "                                       'DatasetGroupArn': dataset_group_arn\n",
    "                                   }\n",
    "                                  )\n",
    "\n",
    "po_predictor_arn = create_auto_predictor_response['PredictorArn']"
   ]
  },
  {
   "cell_type": "markdown",
   "id": "44a6c59d",
   "metadata": {},
   "source": [
    "#### Train a predictor to help anticipate demand over quarters\n",
    "\n",
    "In this example a \"3-month\" forecast is created to show estimated demand for quarter financial projection. "
   ]
  },
  {
   "cell_type": "code",
   "execution_count": 13,
   "id": "8388e9df",
   "metadata": {},
   "outputs": [],
   "source": [
    "PREDICTOR_NAME = \"QUARTER_PREDICTOR\"\n",
    "FORECAST_HORIZON = 1\n",
    "FORECAST_FREQUENCY = \"3M\"\n",
    "\n",
    "create_auto_predictor_response = \\\n",
    "    forecast.create_auto_predictor(PredictorName = PREDICTOR_NAME,\n",
    "                                   ForecastHorizon = FORECAST_HORIZON,\n",
    "                                   ForecastFrequency = FORECAST_FREQUENCY,\n",
    "                                   DataConfig = {\n",
    "                                       'DatasetGroupArn': dataset_group_arn\n",
    "                                   }\n",
    "                                  )\n",
    "\n",
    "quarter_predictor_arn = create_auto_predictor_response['PredictorArn']"
   ]
  },
  {
   "cell_type": "markdown",
   "id": "13298a1a",
   "metadata": {},
   "source": [
    "Poll for the two predictors, training in parallel, to complete.  After both are complete, the workflow can advance."
   ]
  },
  {
   "cell_type": "code",
   "execution_count": 14,
   "id": "13e31fdd",
   "metadata": {},
   "outputs": [
    {
     "name": "stdout",
     "output_type": "stream",
     "text": [
      "CREATE_IN_PROGRESS ......................................................................................................................................................................................................................................................................\n",
      "ACTIVE \n",
      "ACTIVE \n"
     ]
    }
   ],
   "source": [
    "describe_auto_predictor_response = util.wait(lambda: forecast.describe_auto_predictor(PredictorArn=po_predictor_arn))\n",
    "describe_auto_predictor_response = util.wait(lambda: forecast.describe_auto_predictor(PredictorArn=quarter_predictor_arn))"
   ]
  },
  {
   "cell_type": "markdown",
   "id": "0d5d6cfd",
   "metadata": {},
   "source": [
    "## Step 3: Generate forecasts <a class=\"anchor\" id=\"forecast\"></a>\n",
    "Finally, we will generate the forecasts using the above two predictors.   In reality, you may only need one forecast, this is just a teaching example showing how one dataset can be forecasted at multiple, custom time-frequencies."
   ]
  },
  {
   "cell_type": "markdown",
   "id": "1292f26c",
   "metadata": {},
   "source": [
    "#### Generate a forecast from the 3-day Purchase Order Model\n",
    "\n",
    "Here, the ARN for the 3-day (3D) purchase order model is supplied.  The imported dataset along with the predictor model is used to produce the requested forecast."
   ]
  },
  {
   "cell_type": "code",
   "execution_count": 15,
   "id": "17e78064",
   "metadata": {},
   "outputs": [],
   "source": [
    "FORECAST_NAME = \"PURCHASE_ORDER_FORECAST\"\n",
    "\n",
    "create_forecast_response = \\\n",
    "    forecast.create_forecast(ForecastName=FORECAST_NAME,\n",
    "                             PredictorArn=po_predictor_arn)\n",
    "\n",
    "po_forecast_arn = create_forecast_response['ForecastArn']"
   ]
  },
  {
   "cell_type": "markdown",
   "id": "765b39fd",
   "metadata": {},
   "source": [
    "#### Generate a forecast from the Quarter Model\n",
    "\n",
    "Here, the ARN for the quarter (3M) model is supplied."
   ]
  },
  {
   "cell_type": "code",
   "execution_count": 16,
   "id": "b52ff6f4",
   "metadata": {},
   "outputs": [],
   "source": [
    "FORECAST_NAME = \"QUARTER_FORECAST\"\n",
    "\n",
    "create_forecast_response = \\\n",
    "    forecast.create_forecast(ForecastName=FORECAST_NAME,\n",
    "                             PredictorArn=quarter_predictor_arn)\n",
    "\n",
    "quarter_forecast_arn = create_forecast_response['ForecastArn']"
   ]
  },
  {
   "cell_type": "markdown",
   "id": "c0f02e9e",
   "metadata": {},
   "source": [
    "Poll for the two forecasts to complete. "
   ]
  },
  {
   "cell_type": "code",
   "execution_count": 17,
   "id": "90678be4",
   "metadata": {},
   "outputs": [
    {
     "name": "stdout",
     "output_type": "stream",
     "text": [
      "CREATE_PENDING .\n",
      "CREATE_IN_PROGRESS ....................................................................................................\n",
      "ACTIVE \n",
      "ACTIVE \n"
     ]
    }
   ],
   "source": [
    "status = util.wait(lambda: forecast.describe_forecast(ForecastArn=po_forecast_arn))\n",
    "status = util.wait(lambda: forecast.describe_forecast(ForecastArn=quarter_forecast_arn))\n"
   ]
  },
  {
   "cell_type": "markdown",
   "id": "ec123731",
   "metadata": {},
   "source": [
    "## Step 4: Query forecasts <a class=\"anchor\" id=\"query\"></a>\n",
    "\n",
    "In this step, a lightweight API is made for a couple sample items to view the forecasted numbers.  Observe in the dates returned how they are spaced out according the the custom frequency and how the demand value is in alignment with the daily average -- as a general litmus test or rule of thumb."
   ]
  },
  {
   "cell_type": "code",
   "execution_count": 18,
   "id": "e374c0db",
   "metadata": {},
   "outputs": [],
   "source": [
    "item_id=\"1\""
   ]
  },
  {
   "cell_type": "markdown",
   "id": "b6251061",
   "metadata": {},
   "source": [
    "Using the Amazon Forecast Query API, a request for predictions for the named item_id is made using the purchase order forecast.  We expect to see predictions every 3 days which holds true in the dataframe shown below.  Demand for item_id 1 appears to be about 60 each three days or about 20, on average per day."
   ]
  },
  {
   "cell_type": "code",
   "execution_count": 19,
   "id": "941d3998",
   "metadata": {},
   "outputs": [
    {
     "data": {
      "text/html": [
       "<div>\n",
       "<style scoped>\n",
       "    .dataframe tbody tr th:only-of-type {\n",
       "        vertical-align: middle;\n",
       "    }\n",
       "\n",
       "    .dataframe tbody tr th {\n",
       "        vertical-align: top;\n",
       "    }\n",
       "\n",
       "    .dataframe thead th {\n",
       "        text-align: right;\n",
       "    }\n",
       "</style>\n",
       "<table border=\"1\" class=\"dataframe\">\n",
       "  <thead>\n",
       "    <tr style=\"text-align: right;\">\n",
       "      <th></th>\n",
       "      <th>Timestamp</th>\n",
       "      <th>Value</th>\n",
       "    </tr>\n",
       "  </thead>\n",
       "  <tbody>\n",
       "    <tr>\n",
       "      <th>0</th>\n",
       "      <td>2019-02-03T00:00:00</td>\n",
       "      <td>38.617483</td>\n",
       "    </tr>\n",
       "    <tr>\n",
       "      <th>1</th>\n",
       "      <td>2019-02-06T00:00:00</td>\n",
       "      <td>43.642546</td>\n",
       "    </tr>\n",
       "    <tr>\n",
       "      <th>2</th>\n",
       "      <td>2019-02-09T00:00:00</td>\n",
       "      <td>43.977778</td>\n",
       "    </tr>\n",
       "    <tr>\n",
       "      <th>3</th>\n",
       "      <td>2019-02-12T00:00:00</td>\n",
       "      <td>43.579142</td>\n",
       "    </tr>\n",
       "    <tr>\n",
       "      <th>4</th>\n",
       "      <td>2019-02-15T00:00:00</td>\n",
       "      <td>49.895820</td>\n",
       "    </tr>\n",
       "    <tr>\n",
       "      <th>5</th>\n",
       "      <td>2019-02-18T00:00:00</td>\n",
       "      <td>43.518435</td>\n",
       "    </tr>\n",
       "    <tr>\n",
       "      <th>6</th>\n",
       "      <td>2019-02-21T00:00:00</td>\n",
       "      <td>49.395246</td>\n",
       "    </tr>\n",
       "  </tbody>\n",
       "</table>\n",
       "</div>"
      ],
      "text/plain": [
       "             Timestamp      Value\n",
       "0  2019-02-03T00:00:00  38.617483\n",
       "1  2019-02-06T00:00:00  43.642546\n",
       "2  2019-02-09T00:00:00  43.977778\n",
       "3  2019-02-12T00:00:00  43.579142\n",
       "4  2019-02-15T00:00:00  49.895820\n",
       "5  2019-02-18T00:00:00  43.518435\n",
       "6  2019-02-21T00:00:00  49.395246"
      ]
     },
     "execution_count": 19,
     "metadata": {},
     "output_type": "execute_result"
    }
   ],
   "source": [
    "forecast_response = forecastquery.query_forecast(\n",
    "    ForecastArn=po_forecast_arn,\n",
    "    Filters={\"item_id\": item_id}\n",
    ")\n",
    "\n",
    "forecast_p50_df = pd.DataFrame.from_dict(forecast_response['Forecast']['Predictions']['p50'])\n",
    "\n",
    "forecast_p50_df"
   ]
  },
  {
   "cell_type": "markdown",
   "id": "846d4f9d",
   "metadata": {},
   "source": [
    "Next, a request for predictions is made using the quarterly forecast.  We expect to an aggregate prediction for the quarter which holds true and is shown in the dataframe below.\n",
    "Demand for item_id 1 is 1800.0, which aligns with the pattern seen in the 3-day purchase order forecast.  A demand of about 20 per day for 90 days yields 1800.  This is a synthethic dataset, your use case will differ.  The purpose of this example is to show you how to create combinations of time-frequency that make sense for your business and obtain the predicted outcomes."
   ]
  },
  {
   "cell_type": "code",
   "execution_count": 20,
   "id": "549c85bd",
   "metadata": {},
   "outputs": [
    {
     "data": {
      "text/html": [
       "<div>\n",
       "<style scoped>\n",
       "    .dataframe tbody tr th:only-of-type {\n",
       "        vertical-align: middle;\n",
       "    }\n",
       "\n",
       "    .dataframe tbody tr th {\n",
       "        vertical-align: top;\n",
       "    }\n",
       "\n",
       "    .dataframe thead th {\n",
       "        text-align: right;\n",
       "    }\n",
       "</style>\n",
       "<table border=\"1\" class=\"dataframe\">\n",
       "  <thead>\n",
       "    <tr style=\"text-align: right;\">\n",
       "      <th></th>\n",
       "      <th>Timestamp</th>\n",
       "      <th>Value</th>\n",
       "    </tr>\n",
       "  </thead>\n",
       "  <tbody>\n",
       "    <tr>\n",
       "      <th>0</th>\n",
       "      <td>2019-03-01T00:00:00</td>\n",
       "      <td>677.744873</td>\n",
       "    </tr>\n",
       "  </tbody>\n",
       "</table>\n",
       "</div>"
      ],
      "text/plain": [
       "             Timestamp       Value\n",
       "0  2019-03-01T00:00:00  677.744873"
      ]
     },
     "execution_count": 20,
     "metadata": {},
     "output_type": "execute_result"
    }
   ],
   "source": [
    "forecast_response = forecastquery.query_forecast(\n",
    "    ForecastArn=quarter_forecast_arn,\n",
    "    Filters={\"item_id\": item_id}\n",
    ")\n",
    "\n",
    "forecast_p50_df = pd.DataFrame.from_dict(forecast_response['Forecast']['Predictions']['p50'])\n",
    "\n",
    "forecast_p50_df"
   ]
  },
  {
   "cell_type": "markdown",
   "id": "345204ce",
   "metadata": {},
   "source": [
    "## Clean-up <a class=\"anchor\" id=\"cleanup\"></a>\n",
    "Uncomment the code section to delete all resources that were created in this notebook."
   ]
  },
  {
   "cell_type": "code",
   "execution_count": null,
   "id": "5bb4f2b1",
   "metadata": {},
   "outputs": [],
   "source": [
    "forecast.delete_resource_tree(ResourceArn = dataset_group_arn)\n",
    "forecast.delete_resource_tree(ResourceArn = ts_dataset_arn)"
   ]
  }
 ],
 "metadata": {
  "kernelspec": {
   "display_name": "conda_python3",
   "language": "python",
   "name": "conda_python3"
  },
  "language_info": {
   "codemirror_mode": {
    "name": "ipython",
    "version": 3
   },
   "file_extension": ".py",
   "mimetype": "text/x-python",
   "name": "python",
   "nbconvert_exporter": "python",
   "pygments_lexer": "ipython3",
   "version": "3.6.13"
  }
 },
 "nbformat": 4,
 "nbformat_minor": 5
}
