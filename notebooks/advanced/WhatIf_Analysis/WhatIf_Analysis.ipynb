{
 "cells": [
  {
   "cell_type": "markdown",
   "metadata": {},
   "source": [
    "# Introducing What-If Analysis\n",
    "\n",
    "Now with [Amazon Forecast](https://aws.amazon.com/forecast/), you can seamlessly conduct what-if analyses up to 80% faster to analyze and quantify the potential impact of business levers on your demand forecasts. Forecast is a service that uses machine learning (ML) to generate accurate demand forecasts, without requiring any ML experience. Simulating scenarios through what-if analyses is a powerful business tool to navigate through the uncertainty of future events by capturing possible outcomes from hypothetical scenarios. It’s a common practice to assess the impact of business decisions on revenue or profitability, quantify the risk associated with market trends, evaluate how to organize logistics and workforce to meet customer demand, and much more.\n",
    "\n",
    "This notebooks demonstrates how to utillize the What-If feature by using newly available API calls.  First, the notebook uses a sample, synthetic dataset to build a baseline forecast using the \"true\" product price.  Next, the example leads you through the process of creating a what-if analysis that includes two price reduction simulations.  Price reduction scenario 1 will offer a 10% discount; scenario 2 will offer a 20% discount.  With the scenarios created, the notebook will show you to generate a forecast for each of these.  Finally, the notebook shows you how to compare the baseline forecast against the \"discounted\" forecast.  Using this generic technique, you can make a business decision -- choosing a price point that is most likely to maximize profit for your company.\n",
    "\n",
    "Workflow as follows:\n",
    "\n",
    "1. [Import libraries and setup AWS resources](#import_and_setup)\n",
    "2. [Upload demo CSVs to S3](#upload)\n",
    "3. [Create DatasetGroup and Datasets](#create_dsg_ds)\n",
    "4. [Import the target time series data and related time series](#import)\n",
    "5. [Create Predictor](#create_predictor)\n",
    "6. [Create Forecast to produce a baseline](#forecast)\n",
    "7. [Create What-If Analysis](#whatifanalysis)\n",
    "8. [Create What-If Forecast](#whatifforecast)\n",
    "9. [Export What-If Forecast](#forecastexport)\n",
    "10. [Download and Visualize](#download)\n",
    "11. [Resource Cleanup](#cleanup)"
   ]
  },
  {
   "cell_type": "markdown",
   "metadata": {},
   "source": [
    "## Import libraries and setup AWS resources <a class=\"anchor\" id=\"import_and_setup\">\n",
    "    \n",
    "Before proceeding, ensure you have upgraded boto3 as follows, so the latest API is available to you."
   ]
  },
  {
   "cell_type": "code",
   "execution_count": null,
   "metadata": {},
   "outputs": [],
   "source": [
    "!pip install boto3 --upgrade"
   ]
  },
  {
   "cell_type": "code",
   "execution_count": 1,
   "metadata": {},
   "outputs": [],
   "source": [
    "import sys\n",
    "import os\n",
    "import time\n",
    "import datetime\n",
    "import io\n",
    "import numpy as np\n",
    "\n",
    "import pandas as pd\n",
    "import matplotlib.pyplot as plt\n",
    "\n",
    "import boto3\n",
    "\n",
    "# importing forecast notebook utility from notebooks/common directory\n",
    "sys.path.insert( 0, os.path.abspath(\"../../common\") )\n",
    "import util\n",
    "import json"
   ]
  },
  {
   "cell_type": "markdown",
   "metadata": {},
   "source": [
    "Configure the S3 bucket name and region name for this lesson.\n",
    "\n",
    "- If you don't have an S3 bucket, create it first on S3.\n",
    "- Although we have set the region to us-west-2 as a default value below, you can choose any of the regions that the service is available in."
   ]
  },
  {
   "cell_type": "code",
   "execution_count": 2,
   "metadata": {},
   "outputs": [],
   "source": [
    "bucket_name = 'input your existing S3 bucket name'\n",
    "region = 'us-west-2'"
   ]
  },
  {
   "cell_type": "code",
   "execution_count": 3,
   "metadata": {},
   "outputs": [],
   "source": [
    "session = boto3.Session(region_name=region)\n",
    "s3 = session.client('s3')\n",
    "forecast = session.client(service_name='forecast') \n",
    "forecastquery = session.client(service_name='forecastquery')\n",
    "\n",
    "assert forecast.list_what_if_analyses()"
   ]
  },
  {
   "cell_type": "code",
   "execution_count": 4,
   "metadata": {},
   "outputs": [],
   "source": [
    "from sagemaker import get_execution_role\n",
    "role_arn = get_execution_role()"
   ]
  },
  {
   "cell_type": "markdown",
   "metadata": {},
   "source": [
    "## Upload to S3 <a class=\"anchor\" id=\"upload\">\n",
    "Here, we will view the dataset locally, then upload the file to Amazon S3. Amazon Forecast consumes input data from S3.\n",
    "    \n",
    "A sample [Target Time Series](https://github.com/aws-samples/amazon-forecast-samples/blob/main/library/content/TargetTimeSeries.md) (TTS) and [Related Time Series](https://github.com/aws-samples/amazon-forecast-samples/blob/main/library/content/RelatedTimeSeries.md) (RTS) file is provided.  Please visit the links here to learn more about target and related time series.\n",
    "\n",
    "An important note with this dataset.  The TTS ends on 2019-09-01, the RTS ends on 2019-12-01.  When performing what-if scenarios, it's important to manipulate RTS variables beyond your known time horizon in TTS."
   ]
  },
  {
   "cell_type": "code",
   "execution_count": 7,
   "metadata": {},
   "outputs": [
    {
     "data": {
      "text/html": [
       "<div>\n",
       "<style scoped>\n",
       "    .dataframe tbody tr th:only-of-type {\n",
       "        vertical-align: middle;\n",
       "    }\n",
       "\n",
       "    .dataframe tbody tr th {\n",
       "        vertical-align: top;\n",
       "    }\n",
       "\n",
       "    .dataframe thead th {\n",
       "        text-align: right;\n",
       "    }\n",
       "</style>\n",
       "<table border=\"1\" class=\"dataframe\">\n",
       "  <thead>\n",
       "    <tr style=\"text-align: right;\">\n",
       "      <th></th>\n",
       "      <th>item_id</th>\n",
       "      <th>store_id</th>\n",
       "      <th>timestamp</th>\n",
       "      <th>demand</th>\n",
       "    </tr>\n",
       "  </thead>\n",
       "  <tbody>\n",
       "    <tr>\n",
       "      <th>0</th>\n",
       "      <td>item_001</td>\n",
       "      <td>store_001</td>\n",
       "      <td>2017-10-01</td>\n",
       "      <td>305.824943</td>\n",
       "    </tr>\n",
       "    <tr>\n",
       "      <th>1</th>\n",
       "      <td>item_001</td>\n",
       "      <td>store_001</td>\n",
       "      <td>2017-11-01</td>\n",
       "      <td>276.942940</td>\n",
       "    </tr>\n",
       "    <tr>\n",
       "      <th>2</th>\n",
       "      <td>item_001</td>\n",
       "      <td>store_001</td>\n",
       "      <td>2017-12-01</td>\n",
       "      <td>277.608189</td>\n",
       "    </tr>\n",
       "    <tr>\n",
       "      <th>3</th>\n",
       "      <td>item_001</td>\n",
       "      <td>store_001</td>\n",
       "      <td>2018-01-01</td>\n",
       "      <td>275.940622</td>\n",
       "    </tr>\n",
       "    <tr>\n",
       "      <th>4</th>\n",
       "      <td>item_001</td>\n",
       "      <td>store_001</td>\n",
       "      <td>2018-02-01</td>\n",
       "      <td>272.387060</td>\n",
       "    </tr>\n",
       "  </tbody>\n",
       "</table>\n",
       "</div>"
      ],
      "text/plain": [
       "    item_id   store_id   timestamp      demand\n",
       "0  item_001  store_001  2017-10-01  305.824943\n",
       "1  item_001  store_001  2017-11-01  276.942940\n",
       "2  item_001  store_001  2017-12-01  277.608189\n",
       "3  item_001  store_001  2018-01-01  275.940622\n",
       "4  item_001  store_001  2018-02-01  272.387060"
      ]
     },
     "execution_count": 7,
     "metadata": {},
     "output_type": "execute_result"
    }
   ],
   "source": [
    "df_tts = pd.read_csv('./data/consumer_electronics_TTS.csv', low_memory=False)\n",
    "df_tts.head(5)"
   ]
  },
  {
   "cell_type": "code",
   "execution_count": 8,
   "metadata": {},
   "outputs": [
    {
     "data": {
      "text/html": [
       "<div>\n",
       "<style scoped>\n",
       "    .dataframe tbody tr th:only-of-type {\n",
       "        vertical-align: middle;\n",
       "    }\n",
       "\n",
       "    .dataframe tbody tr th {\n",
       "        vertical-align: top;\n",
       "    }\n",
       "\n",
       "    .dataframe thead th {\n",
       "        text-align: right;\n",
       "    }\n",
       "</style>\n",
       "<table border=\"1\" class=\"dataframe\">\n",
       "  <thead>\n",
       "    <tr style=\"text-align: right;\">\n",
       "      <th></th>\n",
       "      <th>item_id</th>\n",
       "      <th>store_id</th>\n",
       "      <th>timestamp</th>\n",
       "      <th>price</th>\n",
       "    </tr>\n",
       "  </thead>\n",
       "  <tbody>\n",
       "    <tr>\n",
       "      <th>0</th>\n",
       "      <td>item_001</td>\n",
       "      <td>store_001</td>\n",
       "      <td>2017-10-01</td>\n",
       "      <td>103.00000</td>\n",
       "    </tr>\n",
       "    <tr>\n",
       "      <th>1</th>\n",
       "      <td>item_001</td>\n",
       "      <td>store_001</td>\n",
       "      <td>2017-11-01</td>\n",
       "      <td>110.79548</td>\n",
       "    </tr>\n",
       "    <tr>\n",
       "      <th>2</th>\n",
       "      <td>item_001</td>\n",
       "      <td>store_001</td>\n",
       "      <td>2017-12-01</td>\n",
       "      <td>110.79548</td>\n",
       "    </tr>\n",
       "    <tr>\n",
       "      <th>3</th>\n",
       "      <td>item_001</td>\n",
       "      <td>store_001</td>\n",
       "      <td>2018-01-01</td>\n",
       "      <td>110.79548</td>\n",
       "    </tr>\n",
       "    <tr>\n",
       "      <th>4</th>\n",
       "      <td>item_001</td>\n",
       "      <td>store_001</td>\n",
       "      <td>2018-02-01</td>\n",
       "      <td>110.79548</td>\n",
       "    </tr>\n",
       "  </tbody>\n",
       "</table>\n",
       "</div>"
      ],
      "text/plain": [
       "    item_id   store_id   timestamp      price\n",
       "0  item_001  store_001  2017-10-01  103.00000\n",
       "1  item_001  store_001  2017-11-01  110.79548\n",
       "2  item_001  store_001  2017-12-01  110.79548\n",
       "3  item_001  store_001  2018-01-01  110.79548\n",
       "4  item_001  store_001  2018-02-01  110.79548"
      ]
     },
     "execution_count": 8,
     "metadata": {},
     "output_type": "execute_result"
    }
   ],
   "source": [
    "df_rts = pd.read_csv('./data/consumer_electronics_RTS.csv', low_memory=False)\n",
    "df_rts.head(5)"
   ]
  },
  {
   "cell_type": "markdown",
   "metadata": {},
   "source": [
    "Upload these files to Amazon S3"
   ]
  },
  {
   "cell_type": "code",
   "execution_count": 9,
   "metadata": {},
   "outputs": [],
   "source": [
    "project = \"whatif_analysis\"\n",
    "\n",
    "key_tts = \"%s/consumer_electronics_TTS.csv\" % project\n",
    "key_rts = \"%s/consumer_electronics_RTS.csv\" % project\n",
    "\n",
    "s3.upload_file( Filename=\"./data/consumer_electronics_TTS.csv\", Bucket=bucket_name, Key=key_tts )\n",
    "s3.upload_file( Filename=\"./data/consumer_electronics_RTS.csv\", Bucket=bucket_name, Key=key_rts )\n",
    "\n",
    "s3_data_path_tts = \"s3://\" + bucket_name + \"/\" + key_tts\n",
    "s3_data_path_rts = \"s3://\" + bucket_name + \"/\" + key_rts"
   ]
  },
  {
   "cell_type": "markdown",
   "metadata": {},
   "source": [
    "# Create DatasetGroup and Datasets <a class=\"anchor\" id=\"create_dsg_ds\">\n",
    "    \n",
    "You can read more about Datasets and Dataset Groups [here](https://github.com/aws-samples/amazon-forecast-samples/blob/main/library/content/Datasets.md)."
   ]
  },
  {
   "cell_type": "code",
   "execution_count": 10,
   "metadata": {},
   "outputs": [],
   "source": [
    "response = forecast.create_dataset_group(\n",
    "    DatasetGroupName = project + \"_dsg\",\n",
    "    Domain=\"CUSTOM\",\n",
    "    )\n",
    "\n",
    "dataset_group_arn = response['DatasetGroupArn']"
   ]
  },
  {
   "cell_type": "code",
   "execution_count": 11,
   "metadata": {},
   "outputs": [],
   "source": [
    "DATASET_FREQUENCY = \"M\"\n",
    "TIMESTAMP_FORMAT = \"yyyy-MM-dd\"\n",
    "\n",
    "schema ={\n",
    "   \"Attributes\":[\n",
    "      {\n",
    "         \"AttributeName\":\"item_id\",\n",
    "         \"AttributeType\":\"string\"\n",
    "      },\n",
    "      {\n",
    "         \"AttributeName\":\"store_id\",\n",
    "         \"AttributeType\":\"string\"\n",
    "      },\n",
    "      {\n",
    "         \"AttributeName\":\"timestamp\",\n",
    "         \"AttributeType\":\"timestamp\"\n",
    "      },\n",
    "      {\n",
    "         \"AttributeName\":\"target_value\",\n",
    "         \"AttributeType\":\"float\"\n",
    "      },\n",
    "   ]\n",
    "}\n",
    "\n",
    "response = forecast.create_dataset(\n",
    "    Domain = \"CUSTOM\",\n",
    "    DatasetType = 'TARGET_TIME_SERIES',\n",
    "    DatasetName = project + \"_tts\",\n",
    "    DataFrequency = DATASET_FREQUENCY, \n",
    "    Schema = schema\n",
    ")\n",
    "\n",
    "tts_dataset_arn = response['DatasetArn']"
   ]
  },
  {
   "cell_type": "code",
   "execution_count": 12,
   "metadata": {},
   "outputs": [],
   "source": [
    "schema ={\n",
    "   \"Attributes\":[\n",
    "      {\n",
    "         \"AttributeName\":\"item_id\",\n",
    "         \"AttributeType\":\"string\"\n",
    "      },\n",
    "      {\n",
    "         \"AttributeName\":\"store_id\",\n",
    "         \"AttributeType\":\"string\"\n",
    "      },\n",
    "      {\n",
    "         \"AttributeName\":\"timestamp\",\n",
    "         \"AttributeType\":\"timestamp\"\n",
    "      },\n",
    "      {\n",
    "         \"AttributeName\":\"price\",\n",
    "         \"AttributeType\":\"float\"\n",
    "      },\n",
    "   ]\n",
    "}\n",
    "\n",
    "response = forecast.create_dataset(\n",
    "    Domain = \"CUSTOM\",\n",
    "    DatasetType = 'RELATED_TIME_SERIES',\n",
    "    DatasetName = project + \"_rts\",\n",
    "    DataFrequency = DATASET_FREQUENCY, \n",
    "    Schema = schema\n",
    ")\n",
    "\n",
    "rts_dataset_arn = response['DatasetArn']"
   ]
  },
  {
   "cell_type": "code",
   "execution_count": 13,
   "metadata": {},
   "outputs": [
    {
     "data": {
      "text/plain": [
       "{'ResponseMetadata': {'RequestId': '9826c838-871d-4339-8bd8-d45eb0905115',\n",
       "  'HTTPStatusCode': 200,\n",
       "  'HTTPHeaders': {'content-type': 'application/x-amz-json-1.1',\n",
       "   'date': 'Sat, 20 Aug 2022 21:58:44 GMT',\n",
       "   'x-amzn-requestid': '9826c838-871d-4339-8bd8-d45eb0905115',\n",
       "   'content-length': '2',\n",
       "   'connection': 'keep-alive'},\n",
       "  'RetryAttempts': 0}}"
      ]
     },
     "execution_count": 13,
     "metadata": {},
     "output_type": "execute_result"
    }
   ],
   "source": [
    "forecast.update_dataset_group( \n",
    "    DatasetGroupArn = dataset_group_arn, \n",
    "    DatasetArns = [\n",
    "        tts_dataset_arn,\n",
    "        rts_dataset_arn,\n",
    "    ]\n",
    ")"
   ]
  },
  {
   "cell_type": "markdown",
   "metadata": {},
   "source": [
    "## Import the target time series data and related time series <a class=\"anchor\" id=\"import\">\n",
    "    "
   ]
  },
  {
   "cell_type": "markdown",
   "metadata": {},
   "source": [
    "Start the import task for TTS"
   ]
  },
  {
   "cell_type": "code",
   "execution_count": 14,
   "metadata": {},
   "outputs": [],
   "source": [
    "response = forecast.create_dataset_import_job(\n",
    "    DatasetImportJobName = project + \"_tts_import\",\n",
    "    DatasetArn = tts_dataset_arn,\n",
    "    DataSource = {\n",
    "        \"S3Config\" : {\n",
    "            \"Path\" : s3_data_path_tts,\n",
    "            \"RoleArn\" : role_arn\n",
    "        }\n",
    "    },\n",
    "    TimestampFormat = TIMESTAMP_FORMAT\n",
    ")\n",
    "\n",
    "tts_dataset_import_job_arn = response['DatasetImportJobArn']"
   ]
  },
  {
   "cell_type": "markdown",
   "metadata": {},
   "source": [
    "Start the import task for RTS"
   ]
  },
  {
   "cell_type": "code",
   "execution_count": 15,
   "metadata": {},
   "outputs": [],
   "source": [
    "response = forecast.create_dataset_import_job(\n",
    "    DatasetImportJobName = project + \"_rts_import\",\n",
    "    DatasetArn = rts_dataset_arn,\n",
    "    DataSource = {\n",
    "        \"S3Config\" : {\n",
    "            \"Path\" : s3_data_path_rts,\n",
    "            \"RoleArn\" : role_arn\n",
    "        }\n",
    "    },\n",
    "    TimestampFormat = TIMESTAMP_FORMAT\n",
    ")\n",
    "\n",
    "rts_dataset_import_job_arn = response['DatasetImportJobArn']"
   ]
  },
  {
   "cell_type": "markdown",
   "metadata": {},
   "source": [
    "Poll and wait on the import tasks, running in parallel, to complete."
   ]
  },
  {
   "cell_type": "code",
   "execution_count": 16,
   "metadata": {},
   "outputs": [
    {
     "name": "stdout",
     "output_type": "stream",
     "text": [
      "Waiting for TTS dataset import job to become ACTIVE.\n",
      "Status:\n",
      "CREATE_PENDING ..\n",
      "CREATE_IN_PROGRESS .........\n",
      "ACTIVE \n",
      "Waiting for RTS dataset import job to become ACTIVE.\n",
      "Status:\n",
      "CREATE_IN_PROGRESS ....................\n",
      "ACTIVE \n"
     ]
    }
   ],
   "source": [
    "print(f\"Waiting for TTS dataset import job to become ACTIVE.\\nStatus:\")\n",
    "status = util.wait(lambda: forecast.describe_dataset_import_job( DatasetImportJobArn = tts_dataset_import_job_arn ))\n",
    "\n",
    "print(f\"Waiting for RTS dataset import job to become ACTIVE.\\nStatus:\")\n",
    "status = util.wait(lambda: forecast.describe_dataset_import_job( DatasetImportJobArn = rts_dataset_import_job_arn ))\n"
   ]
  },
  {
   "cell_type": "markdown",
   "metadata": {},
   "source": [
    "## Create Predictor <a class=\"anchor\" id=\"create_predictor\">\n",
    "\n",
    "Creating a Predictor based on the dataset contents we imported. We will re-use this Predictor to generate two variasions of forecasts.  Please read about the [Auto Predictor](https://github.com/aws-samples/amazon-forecast-samples/blob/main/library/content/AutoPredictor.md) to learn more."
   ]
  },
  {
   "cell_type": "code",
   "execution_count": 17,
   "metadata": {},
   "outputs": [
    {
     "name": "stdout",
     "output_type": "stream",
     "text": [
      "Waiting for Predictor to become ACTIVE. Depending on data size and predictor setting，it can take several hours to be ACTIVE.\n",
      "\n",
      "Current Status:\n",
      "CREATE_PENDING \n",
      "CREATE_IN_PROGRESS .............................................................................................................................................................................................................................................................................................................\n",
      "ACTIVE \n",
      "\n",
      "\n",
      "The Predictor is now ACTIVE.\n"
     ]
    }
   ],
   "source": [
    "PREDICTOR_NAME = project + \"_predictor\"\n",
    "forecast_horizon = 3\n",
    "\n",
    "create_auto_predictor_response = \\\n",
    "    forecast.create_auto_predictor(PredictorName = PREDICTOR_NAME,\n",
    "                                   ForecastHorizon = forecast_horizon,\n",
    "                                   ForecastFrequency = DATASET_FREQUENCY,\n",
    "                                   ForecastDimensions = [\"store_id\"],\n",
    "                                   DataConfig = {\n",
    "                                       'DatasetGroupArn': dataset_group_arn\n",
    "                                    })\n",
    "\n",
    "predictor_arn = create_auto_predictor_response['PredictorArn']\n",
    "print(f\"Waiting for Predictor to become ACTIVE. Depending on data size and predictor setting，it can take several hours to be ACTIVE.\\n\\nCurrent Status:\")\n",
    "\n",
    "status = util.wait(lambda: forecast.describe_auto_predictor(PredictorArn=predictor_arn))\n",
    "\n",
    "describe_auto_predictor_response = forecast.describe_auto_predictor(PredictorArn=predictor_arn)\n",
    "print(f\"\\n\\nThe Predictor is now {describe_auto_predictor_response['Status']}.\")"
   ]
  },
  {
   "cell_type": "markdown",
   "metadata": {},
   "source": [
    "## Create Forecast from the true/baseline values in related time series dataset <a class=\"anchor\" id=\"forecast\">\n",
    "\n",
    "Here, we call create_forecast() API to produce future dated predictions from the imported data, using the trained predictor model from the prior step.  This example produces predictions at the mean quantile, thus 0.50 is used.  You can choose additional quantiles to meet other scenarios."
   ]
  },
  {
   "cell_type": "code",
   "execution_count": 18,
   "metadata": {},
   "outputs": [
    {
     "name": "stdout",
     "output_type": "stream",
     "text": [
      "Waiting for Baseline Forecast to become ACTIVE.\n",
      "\n",
      "Current Status:\n",
      "CREATE_PENDING ..\n",
      "CREATE_IN_PROGRESS .......................................................................\n",
      "ACTIVE \n"
     ]
    }
   ],
   "source": [
    "response = forecast.create_forecast(\n",
    "    ForecastName = project + \"_forecast_baseline\",\n",
    "    ForecastTypes=['0.50'],\n",
    "    PredictorArn = predictor_arn\n",
    ")\n",
    "\n",
    "forecast_arn = response['ForecastArn']\n",
    "\n",
    "print(f\"Waiting for Baseline Forecast to become ACTIVE.\\n\\nCurrent Status:\")\n",
    "\n",
    "status = util.wait(lambda: forecast.describe_forecast( ForecastArn = forecast_arn ))"
   ]
  },
  {
   "cell_type": "markdown",
   "metadata": {},
   "source": [
    "The next cell demonstrates how it's possible to get singleton responses from the query_forecast() API.  This API can be used for lightweight testing, but it not meant for long term, at-scale use.  The dataset under this API is available for 30 days.  The preferred way to obtain predictions is below in this notebook via the create_what_if_forecast_export() shown, or through the baseline [create_forecast_export_job()](https://boto3.amazonaws.com/v1/documentation/api/latest/reference/services/forecast.html#ForecastService.Client.create_forecast_export_job)."
   ]
  },
  {
   "cell_type": "code",
   "execution_count": 19,
   "metadata": {},
   "outputs": [
    {
     "data": {
      "text/plain": [
       "{'Forecast': {'Predictions': {'p50': [{'Timestamp': '2019-10-01T00:00:00',\n",
       "     'Value': 327.3666229248},\n",
       "    {'Timestamp': '2019-11-01T00:00:00', 'Value': 327.0994415283078},\n",
       "    {'Timestamp': '2019-12-01T00:00:00', 'Value': 320.0594177245906}]}},\n",
       " 'ResponseMetadata': {'RequestId': '3d9d1f1f-de54-488f-a5e0-ddc61e78b31c',\n",
       "  'HTTPStatusCode': 200,\n",
       "  'HTTPHeaders': {'content-type': 'application/x-amz-json-1.1',\n",
       "   'date': 'Sat, 20 Aug 2022 23:08:21 GMT',\n",
       "   'x-amzn-requestid': '3d9d1f1f-de54-488f-a5e0-ddc61e78b31c',\n",
       "   'content-length': '221',\n",
       "   'connection': 'keep-alive'},\n",
       "  'RetryAttempts': 0}}"
      ]
     },
     "execution_count": 19,
     "metadata": {},
     "output_type": "execute_result"
    }
   ],
   "source": [
    "response = forecastquery.query_forecast(\n",
    "        ForecastArn = forecast_arn,\n",
    "        Filters = { \"item_id\" : 'item_001', \"store_id\": \"store_001\" }\n",
    "    )\n",
    "\n",
    "response"
   ]
  },
  {
   "cell_type": "markdown",
   "metadata": {},
   "source": [
    "With a baseline forecast now created, it becomes possible to setup alternate, what-if scenarios and generate corresponding what-if forecasts.  This baseline can be compared against the alternates allowing the business to decide a path forward."
   ]
  },
  {
   "cell_type": "markdown",
   "metadata": {},
   "source": [
    "## Create a Named What-If Analysis <a class=\"anchor\" id=\"whatifanalysis\">\n",
    "\n",
    "A what-if analysis becomes a container for child what-if forecast(s).  What-if forecasts are differ from the forecast above in that they produce outputs that contain the natural forecasted values and the scenario models in the same record set.   This makes it easy to compare the \"change\" as a result of manipulating the features in the related time series set.\n",
    "\n",
    "Please observe in the cell below how the What-If Analysis has a name and is attached to an existing baseline forecast in the new <b>create_what_if_analysis()</b> API call."
   ]
  },
  {
   "cell_type": "code",
   "execution_count": 20,
   "metadata": {},
   "outputs": [
    {
     "name": "stdout",
     "output_type": "stream",
     "text": [
      "Waiting for What-if Analysis to become ACTIVE.\n",
      "\n",
      "Current Status:\n",
      "CREATE_PENDING .\n",
      "ACTIVE \n"
     ]
    }
   ],
   "source": [
    "WhatIfAnalysisName = \"PricePromotionAnalysis\"\n",
    "\n",
    "response = forecast.create_what_if_analysis(\n",
    "    WhatIfAnalysisName=WhatIfAnalysisName,\n",
    "    ForecastArn=forecast_arn,\n",
    ")\n",
    "\n",
    "WhatIfAnalysisArn = response['WhatIfAnalysisArn']\n",
    "\n",
    "print(f\"Waiting for What-if Analysis to become ACTIVE.\\n\\nCurrent Status:\")\n",
    "\n",
    "status = util.wait(lambda: forecast.describe_what_if_analysis( WhatIfAnalysisArn = WhatIfAnalysisArn ))"
   ]
  },
  {
   "cell_type": "markdown",
   "metadata": {},
   "source": [
    "## Inside the What-If Analysis, Create a What-If Forecast <a class=\"anchor\" id=\"whatifforecast\">\n",
    "    \n",
    "In the next two cells we will create two What-If Forecasts that run in parallel.  One of these examples discounts a products by 10%, the other offers a 20% discount.  To emphasize the point, What-if forecasts are different than baseline forecasts in that they produce outputs that contain the baseline forecasted values and the scenario-models in the same record. \n",
    "\n",
    "Having the original baseline value and the what-if value adjacent makes it easy to measure the change as a result of your scenario.  Here, you make a judgement call if the change is something your business wants to adopt."
   ]
  },
  {
   "cell_type": "markdown",
   "metadata": {},
   "source": [
    "<b>Scenario 1</b>: Create a 10% off all products, for time period September 1, 2019 and greater."
   ]
  },
  {
   "cell_type": "code",
   "execution_count": 21,
   "metadata": {},
   "outputs": [],
   "source": [
    "WhatIfForecastName='simulate_10_pct_off'\n",
    "\n",
    "response = forecast.create_what_if_forecast(\n",
    "    WhatIfForecastName=WhatIfForecastName,\n",
    "    WhatIfAnalysisArn=WhatIfAnalysisArn,\n",
    "    TimeSeriesTransformations=[\n",
    "         {\n",
    "            \"Action\": {\n",
    "                \"AttributeName\": \"price\",\n",
    "                \"Operation\": \"MULTIPLY\",\n",
    "                \"Value\": 0.90\n",
    "            },\n",
    "            \"TimeSeriesConditions\": [\n",
    "                {\n",
    "                    \"AttributeName\": \"timestamp\",\n",
    "                    \"AttributeValue\": \"2019-09-01 00:00:00\",\n",
    "                    \"Condition\": \"GREATER_THAN\"\n",
    "                }\n",
    "              ]\n",
    "         }\n",
    "    ]\n",
    ")\n",
    "\n",
    "WhatIfForecastArn_10Pct = response['WhatIfForecastArn']"
   ]
  },
  {
   "cell_type": "markdown",
   "metadata": {},
   "source": [
    "<b>Scenario 2</b>: Create a 20% off product item_001, for time period September 1, 2019 and greater."
   ]
  },
  {
   "cell_type": "code",
   "execution_count": 22,
   "metadata": {},
   "outputs": [],
   "source": [
    "WhatIfForecastName='simulate_20_pct_off'\n",
    "\n",
    "response = forecast.create_what_if_forecast(\n",
    "    WhatIfForecastName=WhatIfForecastName,\n",
    "    WhatIfAnalysisArn=WhatIfAnalysisArn,\n",
    "    TimeSeriesTransformations=[\n",
    "         {\n",
    "            \"Action\": {\n",
    "                \"AttributeName\": \"price\",\n",
    "                \"Operation\": \"MULTIPLY\",\n",
    "                \"Value\": 0.80\n",
    "            },\n",
    "            \"TimeSeriesConditions\": [\n",
    "                {\n",
    "                    \"AttributeName\": \"timestamp\",\n",
    "                    \"AttributeValue\": \"2019-09-01 00:00:00\",\n",
    "                    \"Condition\": \"GREATER_THAN\"\n",
    "                }\n",
    "              ]\n",
    "         }\n",
    "    ]\n",
    ")\n",
    "\n",
    "WhatIfForecastArn_20Pct = response['WhatIfForecastArn']"
   ]
  },
  {
   "cell_type": "markdown",
   "metadata": {},
   "source": [
    "Poll and wait for both of the what-if forecasts tasks to complete before moving forward."
   ]
  },
  {
   "cell_type": "code",
   "execution_count": 23,
   "metadata": {},
   "outputs": [
    {
     "name": "stdout",
     "output_type": "stream",
     "text": [
      "Waiting for What-if Forecast to become ACTIVE.\n",
      "\n",
      "Current Status:\n",
      "CREATE_PENDING ..\n",
      "CREATE_IN_PROGRESS ..............................................................................................................................................................\n",
      "ACTIVE \n",
      "ACTIVE \n"
     ]
    }
   ],
   "source": [
    "print(f\"Waiting for What-if Forecast to become ACTIVE.\\n\\nCurrent Status:\")\n",
    "\n",
    "status = util.wait(lambda: forecast.describe_what_if_forecast(WhatIfForecastArn=WhatIfForecastArn_10Pct ))\n",
    "\n",
    "status = util.wait(lambda: forecast.describe_what_if_forecast(WhatIfForecastArn=WhatIfForecastArn_20Pct ))"
   ]
  },
  {
   "cell_type": "markdown",
   "metadata": {},
   "source": [
    "## Export the What-If Forecast <a class=\"anchor\" id=\"forecastexport\">"
   ]
  },
  {
   "cell_type": "markdown",
   "metadata": {},
   "source": [
    "<b>Scenario 1</b> Export data to S3"
   ]
  },
  {
   "cell_type": "code",
   "execution_count": 24,
   "metadata": {},
   "outputs": [],
   "source": [
    "scenario = 'simulate_10_pct_off'\n",
    "\n",
    "s3_data_path_export = \"s3://\" + bucket_name + \"/\" + project + \"/\" + scenario + \"/\"\n",
    "\n",
    "response = forecast.create_what_if_forecast_export(\n",
    "    WhatIfForecastExportName=scenario,\n",
    "    WhatIfForecastArns=[WhatIfForecastArn_10Pct],\n",
    "    Destination={\n",
    "        \"S3Config\":  {\n",
    "            \"Path\": s3_data_path_export,\n",
    "            \"RoleArn\": role_arn,\n",
    "        }\n",
    "    }\n",
    ")\n",
    "\n",
    "WhatIfForecastExportArn_10Pct= response['WhatIfForecastExportArn']"
   ]
  },
  {
   "cell_type": "markdown",
   "metadata": {},
   "source": [
    "<b>Scenario 2</b> Export data to S3"
   ]
  },
  {
   "cell_type": "code",
   "execution_count": 25,
   "metadata": {},
   "outputs": [],
   "source": [
    "scenario = 'simulate_20_pct_off'\n",
    "\n",
    "s3_data_path_export = \"s3://\" + bucket_name + \"/\" + project + \"/\" + scenario + \"/\"\n",
    "\n",
    "response = forecast.create_what_if_forecast_export(\n",
    "    WhatIfForecastExportName=scenario,\n",
    "    WhatIfForecastArns=[WhatIfForecastArn_20Pct],\n",
    "    Destination={\n",
    "        \"S3Config\":  {\n",
    "            \"Path\": s3_data_path_export,\n",
    "            \"RoleArn\": role_arn,\n",
    "        }\n",
    "    }\n",
    ")\n",
    "\n",
    "WhatIfForecastExportArn_20Pct= response['WhatIfForecastExportArn']"
   ]
  },
  {
   "cell_type": "markdown",
   "metadata": {},
   "source": [
    "Poll for concurrent export jobs to complete"
   ]
  },
  {
   "cell_type": "code",
   "execution_count": 26,
   "metadata": {},
   "outputs": [
    {
     "name": "stdout",
     "output_type": "stream",
     "text": [
      "Waiting for What-if Forecast Export to become ACTIVE.\n",
      "\n",
      "Current Status:\n",
      "CREATE_PENDING .\n",
      "CREATE_IN_PROGRESS .........................\n",
      "ACTIVE \n",
      "CREATE_IN_PROGRESS ................................................................\n",
      "ACTIVE \n"
     ]
    }
   ],
   "source": [
    "print(f\"Waiting for What-if Forecast Export to become ACTIVE.\\n\\nCurrent Status:\")\n",
    "status = util.wait(lambda: forecast.describe_what_if_forecast_export(WhatIfForecastExportArn=WhatIfForecastExportArn_10Pct ))\n",
    "status = util.wait(lambda: forecast.describe_what_if_forecast_export(WhatIfForecastExportArn=WhatIfForecastExportArn_20Pct ))"
   ]
  },
  {
   "cell_type": "markdown",
   "metadata": {},
   "source": [
    "## Download and Visualize <a class=\"anchor\" id=\"download\">"
   ]
  },
  {
   "cell_type": "markdown",
   "metadata": {},
   "source": [
    "<b>Scenario 1</b>:View tabular results of baseline forecast vs. 10% off forecast.  Note the expected [increase] in demand after the 10% off discount.  "
   ]
  },
  {
   "cell_type": "code",
   "execution_count": 34,
   "metadata": {},
   "outputs": [
    {
     "data": {
      "text/html": [
       "<div>\n",
       "<style scoped>\n",
       "    .dataframe tbody tr th:only-of-type {\n",
       "        vertical-align: middle;\n",
       "    }\n",
       "\n",
       "    .dataframe tbody tr th {\n",
       "        vertical-align: top;\n",
       "    }\n",
       "\n",
       "    .dataframe thead th {\n",
       "        text-align: right;\n",
       "    }\n",
       "</style>\n",
       "<table border=\"1\" class=\"dataframe\">\n",
       "  <thead>\n",
       "    <tr style=\"text-align: right;\">\n",
       "      <th></th>\n",
       "      <th></th>\n",
       "      <th></th>\n",
       "      <th>Baseline_p50</th>\n",
       "      <th>simulate_10_pct_off_p50</th>\n",
       "    </tr>\n",
       "    <tr>\n",
       "      <th>date</th>\n",
       "      <th>item_id</th>\n",
       "      <th>store_id</th>\n",
       "      <th></th>\n",
       "      <th></th>\n",
       "    </tr>\n",
       "  </thead>\n",
       "  <tbody>\n",
       "    <tr>\n",
       "      <th>2019-10-01T00:00:00Z</th>\n",
       "      <th>item_001</th>\n",
       "      <th>store_001</th>\n",
       "      <td>327.366623</td>\n",
       "      <td>382.596756</td>\n",
       "    </tr>\n",
       "    <tr>\n",
       "      <th>2019-11-01T00:00:00Z</th>\n",
       "      <th>item_001</th>\n",
       "      <th>store_001</th>\n",
       "      <td>327.099442</td>\n",
       "      <td>381.938004</td>\n",
       "    </tr>\n",
       "    <tr>\n",
       "      <th>2019-12-01T00:00:00Z</th>\n",
       "      <th>item_001</th>\n",
       "      <th>store_001</th>\n",
       "      <td>320.059418</td>\n",
       "      <td>375.966370</td>\n",
       "    </tr>\n",
       "  </tbody>\n",
       "</table>\n",
       "</div>"
      ],
      "text/plain": [
       "                                         Baseline_p50  simulate_10_pct_off_p50\n",
       "date                 item_id  store_id                                        \n",
       "2019-10-01T00:00:00Z item_001 store_001    327.366623               382.596756\n",
       "2019-11-01T00:00:00Z item_001 store_001    327.099442               381.938004\n",
       "2019-12-01T00:00:00Z item_001 store_001    320.059418               375.966370"
      ]
     },
     "execution_count": 34,
     "metadata": {},
     "output_type": "execute_result"
    }
   ],
   "source": [
    "scenario = 'simulate_10_pct_off'\n",
    "\n",
    "s3_key =  project + \"/\" + scenario + \"/\"\n",
    "\n",
    "#get an arbirary list of 5 files from S3\n",
    "response = s3.list_objects_v2(\n",
    "    Bucket=bucket_name,\n",
    "    EncodingType='url',\n",
    "    MaxKeys=100,\n",
    "    Prefix=s3_key\n",
    ")\n",
    "\n",
    "df1 = []\n",
    "\n",
    "# if files are CSV, open, display and plot -- not for actual use, but as an example of art of possible\n",
    "for i in response['Contents']:\n",
    "    \n",
    "    if i['Key'].endswith('.csv'):\n",
    "        \n",
    "        obj = s3.get_object(Bucket=bucket_name, Key=i['Key'])\n",
    "        csv = pd.read_csv(io.BytesIO(obj['Body'].read()))\n",
    "        df1.append(csv)\n",
    "\n",
    "df1 = pd.concat(df1)\n",
    "df1 = df1[(df1['item_id']=='item_001') & (df1['store_id']=='store_001')]\n",
    "df1 = df1.set_index(keys=['date','item_id','store_id'])\n",
    "df1.head(10)"
   ]
  },
  {
   "cell_type": "markdown",
   "metadata": {},
   "source": [
    "<b>Scenario 2</b>:View tabular results of baseline forecast vs. 20% off forecast"
   ]
  },
  {
   "cell_type": "code",
   "execution_count": 35,
   "metadata": {},
   "outputs": [
    {
     "data": {
      "text/html": [
       "<div>\n",
       "<style scoped>\n",
       "    .dataframe tbody tr th:only-of-type {\n",
       "        vertical-align: middle;\n",
       "    }\n",
       "\n",
       "    .dataframe tbody tr th {\n",
       "        vertical-align: top;\n",
       "    }\n",
       "\n",
       "    .dataframe thead th {\n",
       "        text-align: right;\n",
       "    }\n",
       "</style>\n",
       "<table border=\"1\" class=\"dataframe\">\n",
       "  <thead>\n",
       "    <tr style=\"text-align: right;\">\n",
       "      <th></th>\n",
       "      <th></th>\n",
       "      <th></th>\n",
       "      <th>simulate_20_pct_off_p50</th>\n",
       "      <th>Baseline_p50</th>\n",
       "    </tr>\n",
       "    <tr>\n",
       "      <th>date</th>\n",
       "      <th>item_id</th>\n",
       "      <th>store_id</th>\n",
       "      <th></th>\n",
       "      <th></th>\n",
       "    </tr>\n",
       "  </thead>\n",
       "  <tbody>\n",
       "    <tr>\n",
       "      <th>2019-10-01T00:00:00Z</th>\n",
       "      <th>item_001</th>\n",
       "      <th>store_001</th>\n",
       "      <td>442.034897</td>\n",
       "      <td>327.366623</td>\n",
       "    </tr>\n",
       "    <tr>\n",
       "      <th>2019-11-01T00:00:00Z</th>\n",
       "      <th>item_001</th>\n",
       "      <th>store_001</th>\n",
       "      <td>439.336487</td>\n",
       "      <td>327.099442</td>\n",
       "    </tr>\n",
       "    <tr>\n",
       "      <th>2019-12-01T00:00:00Z</th>\n",
       "      <th>item_001</th>\n",
       "      <th>store_001</th>\n",
       "      <td>434.691040</td>\n",
       "      <td>320.059418</td>\n",
       "    </tr>\n",
       "  </tbody>\n",
       "</table>\n",
       "</div>"
      ],
      "text/plain": [
       "                                         simulate_20_pct_off_p50  Baseline_p50\n",
       "date                 item_id  store_id                                        \n",
       "2019-10-01T00:00:00Z item_001 store_001               442.034897    327.366623\n",
       "2019-11-01T00:00:00Z item_001 store_001               439.336487    327.099442\n",
       "2019-12-01T00:00:00Z item_001 store_001               434.691040    320.059418"
      ]
     },
     "execution_count": 35,
     "metadata": {},
     "output_type": "execute_result"
    }
   ],
   "source": [
    "scenario = 'simulate_20_pct_off'\n",
    "\n",
    "s3_key =  project + \"/\" + scenario + \"/\"\n",
    "\n",
    "#get an arbirary list of 5 files from S3\n",
    "response = s3.list_objects_v2(\n",
    "    Bucket=bucket_name,\n",
    "    EncodingType='url',\n",
    "    MaxKeys=100,\n",
    "    Prefix=s3_key\n",
    ")\n",
    "\n",
    "df2 = []\n",
    "\n",
    "# if files are CSV, open, display and plot -- not for actual use, but as an example of art of possible\n",
    "for i in response['Contents']:\n",
    "    \n",
    "    if i['Key'].endswith('.csv'):\n",
    "        \n",
    "        obj = s3.get_object(Bucket=bucket_name, Key=i['Key'])\n",
    "        csv = pd.read_csv(io.BytesIO(obj['Body'].read()))\n",
    "        df2.append(csv)\n",
    "\n",
    "df2 = pd.concat(df2)\n",
    "df2 = df2[(df2['item_id']=='item_001') & (df2['store_id']=='store_001')]\n",
    "df2 = df2.set_index(keys=['date','item_id','store_id'])\n",
    "df2.head(10)"
   ]
  },
  {
   "cell_type": "markdown",
   "metadata": {},
   "source": [
    "Join the two what-if dataframes and add a placeholder demand column"
   ]
  },
  {
   "cell_type": "code",
   "execution_count": 36,
   "metadata": {},
   "outputs": [
    {
     "data": {
      "text/html": [
       "<div>\n",
       "<style scoped>\n",
       "    .dataframe tbody tr th:only-of-type {\n",
       "        vertical-align: middle;\n",
       "    }\n",
       "\n",
       "    .dataframe tbody tr th {\n",
       "        vertical-align: top;\n",
       "    }\n",
       "\n",
       "    .dataframe thead th {\n",
       "        text-align: right;\n",
       "    }\n",
       "</style>\n",
       "<table border=\"1\" class=\"dataframe\">\n",
       "  <thead>\n",
       "    <tr style=\"text-align: right;\">\n",
       "      <th></th>\n",
       "      <th></th>\n",
       "      <th></th>\n",
       "      <th>Baseline_p50</th>\n",
       "      <th>simulate_10_pct_off_p50</th>\n",
       "      <th>simulate_20_pct_off_p50</th>\n",
       "      <th>demand</th>\n",
       "    </tr>\n",
       "    <tr>\n",
       "      <th>date</th>\n",
       "      <th>item_id</th>\n",
       "      <th>store_id</th>\n",
       "      <th></th>\n",
       "      <th></th>\n",
       "      <th></th>\n",
       "      <th></th>\n",
       "    </tr>\n",
       "  </thead>\n",
       "  <tbody>\n",
       "    <tr>\n",
       "      <th>2019-10-01T00:00:00Z</th>\n",
       "      <th>item_001</th>\n",
       "      <th>store_001</th>\n",
       "      <td>327.366623</td>\n",
       "      <td>382.596756</td>\n",
       "      <td>442.034897</td>\n",
       "      <td>NaN</td>\n",
       "    </tr>\n",
       "    <tr>\n",
       "      <th>2019-11-01T00:00:00Z</th>\n",
       "      <th>item_001</th>\n",
       "      <th>store_001</th>\n",
       "      <td>327.099442</td>\n",
       "      <td>381.938004</td>\n",
       "      <td>439.336487</td>\n",
       "      <td>NaN</td>\n",
       "    </tr>\n",
       "    <tr>\n",
       "      <th>2019-12-01T00:00:00Z</th>\n",
       "      <th>item_001</th>\n",
       "      <th>store_001</th>\n",
       "      <td>320.059418</td>\n",
       "      <td>375.966370</td>\n",
       "      <td>434.691040</td>\n",
       "      <td>NaN</td>\n",
       "    </tr>\n",
       "  </tbody>\n",
       "</table>\n",
       "</div>"
      ],
      "text/plain": [
       "                                         Baseline_p50  \\\n",
       "date                 item_id  store_id                  \n",
       "2019-10-01T00:00:00Z item_001 store_001    327.366623   \n",
       "2019-11-01T00:00:00Z item_001 store_001    327.099442   \n",
       "2019-12-01T00:00:00Z item_001 store_001    320.059418   \n",
       "\n",
       "                                         simulate_10_pct_off_p50  \\\n",
       "date                 item_id  store_id                             \n",
       "2019-10-01T00:00:00Z item_001 store_001               382.596756   \n",
       "2019-11-01T00:00:00Z item_001 store_001               381.938004   \n",
       "2019-12-01T00:00:00Z item_001 store_001               375.966370   \n",
       "\n",
       "                                         simulate_20_pct_off_p50  demand  \n",
       "date                 item_id  store_id                                    \n",
       "2019-10-01T00:00:00Z item_001 store_001               442.034897     NaN  \n",
       "2019-11-01T00:00:00Z item_001 store_001               439.336487     NaN  \n",
       "2019-12-01T00:00:00Z item_001 store_001               434.691040     NaN  "
      ]
     },
     "execution_count": 36,
     "metadata": {},
     "output_type": "execute_result"
    }
   ],
   "source": [
    "df2.drop(columns='Baseline_p50', inplace=True)\n",
    "df_whatif = pd.concat([df1, df2], axis=1)\n",
    "df_whatif['demand'] = np.nan\n",
    "df_whatif.head(5)"
   ]
  },
  {
   "cell_type": "markdown",
   "metadata": {},
   "source": [
    "Prepare a historical view of data, the true demand for a named item and store.  This dataframe will be merged with the what-if dataframe, then plotted."
   ]
  },
  {
   "cell_type": "code",
   "execution_count": 45,
   "metadata": {},
   "outputs": [
    {
     "name": "stderr",
     "output_type": "stream",
     "text": [
      "/home/ec2-user/anaconda3/envs/python3/lib/python3.6/site-packages/pandas/core/frame.py:4308: SettingWithCopyWarning: \n",
      "A value is trying to be set on a copy of a slice from a DataFrame\n",
      "\n",
      "See the caveats in the documentation: https://pandas.pydata.org/pandas-docs/stable/user_guide/indexing.html#returning-a-view-versus-a-copy\n",
      "  errors=errors,\n",
      "/home/ec2-user/anaconda3/envs/python3/lib/python3.6/site-packages/ipykernel/__main__.py:4: SettingWithCopyWarning: \n",
      "A value is trying to be set on a copy of a slice from a DataFrame.\n",
      "Try using .loc[row_indexer,col_indexer] = value instead\n",
      "\n",
      "See the caveats in the documentation: https://pandas.pydata.org/pandas-docs/stable/user_guide/indexing.html#returning-a-view-versus-a-copy\n"
     ]
    }
   ],
   "source": [
    "df_history = df_tts[(df_tts['item_id']=='item_001') & (df_tts['store_id']=='store_001')]\n",
    "\n",
    "df_history.rename(columns={'timestamp': 'date'}, inplace=True)\n",
    "df_history['date'] = df_history['date'] + 'T00:00:00Z'\n",
    "\n",
    "df_history = df_history.set_index(keys=['date','item_id','store_id'])\n",
    "\n",
    "df_history['Baseline_p50'] = np.nan\n",
    "df_history['simulate_20_pct_off_p50'] = np.nan\n",
    "df_history['simulate_10_pct_off_p50'] = np.nan"
   ]
  },
  {
   "cell_type": "markdown",
   "metadata": {},
   "source": [
    "Join the history dataframe with the predictions -- baseline and two what-if scenarios."
   ]
  },
  {
   "cell_type": "code",
   "execution_count": 46,
   "metadata": {},
   "outputs": [
    {
     "data": {
      "text/html": [
       "<div>\n",
       "<style scoped>\n",
       "    .dataframe tbody tr th:only-of-type {\n",
       "        vertical-align: middle;\n",
       "    }\n",
       "\n",
       "    .dataframe tbody tr th {\n",
       "        vertical-align: top;\n",
       "    }\n",
       "\n",
       "    .dataframe thead th {\n",
       "        text-align: right;\n",
       "    }\n",
       "</style>\n",
       "<table border=\"1\" class=\"dataframe\">\n",
       "  <thead>\n",
       "    <tr style=\"text-align: right;\">\n",
       "      <th></th>\n",
       "      <th>date</th>\n",
       "      <th>item_id</th>\n",
       "      <th>store_id</th>\n",
       "      <th>demand</th>\n",
       "      <th>Baseline_p50</th>\n",
       "      <th>simulate_20_pct_off_p50</th>\n",
       "      <th>simulate_10_pct_off_p50</th>\n",
       "    </tr>\n",
       "  </thead>\n",
       "  <tbody>\n",
       "    <tr>\n",
       "      <th>21</th>\n",
       "      <td>2019-07-01T00:00:00Z</td>\n",
       "      <td>item_001</td>\n",
       "      <td>store_001</td>\n",
       "      <td>315.759707</td>\n",
       "      <td>NaN</td>\n",
       "      <td>NaN</td>\n",
       "      <td>NaN</td>\n",
       "    </tr>\n",
       "    <tr>\n",
       "      <th>22</th>\n",
       "      <td>2019-08-01T00:00:00Z</td>\n",
       "      <td>item_001</td>\n",
       "      <td>store_001</td>\n",
       "      <td>320.044658</td>\n",
       "      <td>NaN</td>\n",
       "      <td>NaN</td>\n",
       "      <td>NaN</td>\n",
       "    </tr>\n",
       "    <tr>\n",
       "      <th>23</th>\n",
       "      <td>2019-09-01T00:00:00Z</td>\n",
       "      <td>item_001</td>\n",
       "      <td>store_001</td>\n",
       "      <td>325.455626</td>\n",
       "      <td>NaN</td>\n",
       "      <td>NaN</td>\n",
       "      <td>NaN</td>\n",
       "    </tr>\n",
       "    <tr>\n",
       "      <th>24</th>\n",
       "      <td>2019-10-01T00:00:00Z</td>\n",
       "      <td>item_001</td>\n",
       "      <td>store_001</td>\n",
       "      <td>NaN</td>\n",
       "      <td>327.366623</td>\n",
       "      <td>442.034897</td>\n",
       "      <td>382.596756</td>\n",
       "    </tr>\n",
       "    <tr>\n",
       "      <th>25</th>\n",
       "      <td>2019-11-01T00:00:00Z</td>\n",
       "      <td>item_001</td>\n",
       "      <td>store_001</td>\n",
       "      <td>NaN</td>\n",
       "      <td>327.099442</td>\n",
       "      <td>439.336487</td>\n",
       "      <td>381.938004</td>\n",
       "    </tr>\n",
       "    <tr>\n",
       "      <th>26</th>\n",
       "      <td>2019-12-01T00:00:00Z</td>\n",
       "      <td>item_001</td>\n",
       "      <td>store_001</td>\n",
       "      <td>NaN</td>\n",
       "      <td>320.059418</td>\n",
       "      <td>434.691040</td>\n",
       "      <td>375.966370</td>\n",
       "    </tr>\n",
       "  </tbody>\n",
       "</table>\n",
       "</div>"
      ],
      "text/plain": [
       "                    date   item_id   store_id      demand  Baseline_p50  \\\n",
       "21  2019-07-01T00:00:00Z  item_001  store_001  315.759707           NaN   \n",
       "22  2019-08-01T00:00:00Z  item_001  store_001  320.044658           NaN   \n",
       "23  2019-09-01T00:00:00Z  item_001  store_001  325.455626           NaN   \n",
       "24  2019-10-01T00:00:00Z  item_001  store_001         NaN    327.366623   \n",
       "25  2019-11-01T00:00:00Z  item_001  store_001         NaN    327.099442   \n",
       "26  2019-12-01T00:00:00Z  item_001  store_001         NaN    320.059418   \n",
       "\n",
       "    simulate_20_pct_off_p50  simulate_10_pct_off_p50  \n",
       "21                      NaN                      NaN  \n",
       "22                      NaN                      NaN  \n",
       "23                      NaN                      NaN  \n",
       "24               442.034897               382.596756  \n",
       "25               439.336487               381.938004  \n",
       "26               434.691040               375.966370  "
      ]
     },
     "execution_count": 46,
     "metadata": {},
     "output_type": "execute_result"
    }
   ],
   "source": [
    "df_history = df_history.append(df_whatif)\n",
    "df_history = df_history.reset_index()\n",
    "df_history.tail(6)"
   ]
  },
  {
   "cell_type": "markdown",
   "metadata": {},
   "source": [
    "### Visualize\n",
    "\n",
    "\n",
    "In the graphic below, historic demand is in blue as 'demand'.  With the price unchanged, the Baseline P50 estimate nearly matches the historic demand.  In the green line, there is clear increase with a 10% off simulation as 'simulate_20_pct_off_p50'.  Finally, the red line at top shows an even larger increase in demand at a 20% off price."
   ]
  },
  {
   "cell_type": "code",
   "execution_count": 58,
   "metadata": {},
   "outputs": [
    {
     "data": {
      "image/png": "[encoded data removed]",
      "text/plain": [
       "<Figure size 1080x360 with 1 Axes>"
      ]
     },
     "metadata": {
      "needs_background": "light"
     },
     "output_type": "display_data"
    }
   ],
   "source": [
    "df_history.plot(x='date', y=['demand', 'Baseline_p50','simulate_10_pct_off_p50',\n",
    "                   'simulate_20_pct_off_p50'], kind ='line', figsize=(15,5))\n",
    "plt.xlabel('time')\n",
    "plt.ylabel('demand')\n",
    "plt.show()  "
   ]
  },
  {
   "cell_type": "markdown",
   "metadata": {},
   "source": [
    "## Resource cleanup <a class=\"anchor\" id=\"cleanup\">\n",
    "    This needs to be un-commented for clean-up"
   ]
  },
  {
   "cell_type": "code",
   "execution_count": null,
   "metadata": {},
   "outputs": [],
   "source": [
    "# Delete datasets and dataset group\n",
    "util.wait_till_delete(lambda: forecast.delete_resource_tree(ResourceArn = dataset_group_arn))\n",
    "util.wait_till_delete(lambda: forecast.delete_resource_tree(ResourceArn = rts_dataset_arn))\n",
    "util.wait_till_delete(lambda: forecast.delete_resource_tree(ResourceArn = tts_dataset_arn))\n",
    "\n",
    "util.wait_till_delete(lambda: forecast.delete_resource_tree(ResourceArn = WhatIfAnalysisArn))"
   ]
  }
 ],
 "metadata": {
  "kernelspec": {
   "display_name": "conda_python3",
   "language": "python",
   "name": "conda_python3"
  },
  "language_info": {
   "codemirror_mode": {
    "name": "ipython",
    "version": 3
   },
   "file_extension": ".py",
   "mimetype": "text/x-python",
   "name": "python",
   "nbconvert_exporter": "python",
   "pygments_lexer": "ipython3",
   "version": "3.6.13"
  }
 },
 "nbformat": 4,
 "nbformat_minor": 2
}
