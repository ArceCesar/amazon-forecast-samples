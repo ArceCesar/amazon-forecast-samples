{
 "cells": [
  {
   "cell_type": "markdown",
   "id": "09fc8f55",
   "metadata": {},
   "source": [
    "# Time Series Clustering using DTW KMeans\n",
    "\n",
    "In this notebook, we will train a KMeans Clustering algorithm based on DTW distances between Time Series data.\n",
    "\n",
    "We leverage the tslearn library for clustering. More details are available at: https://tslearn.readthedocs.io/en/stable/index.html\n",
    "\n",
    "The data used in this analysis is publicly available via UCI Archive under Online Retail II Data Set: https://archive.ics.uci.edu/ml/datasets/Online+Retail+II\n",
    "\n",
    "This dataset was cleaned and preprocessed using the (Optional) Data Cleaning and Preparation notebook. The reader may directly use the cleaned data included in the repository under: './data/df_pivoted.csv.zip' for running this notebook."
   ]
  },
  {
   "cell_type": "code",
   "execution_count": 1,
   "id": "053c99d7",
   "metadata": {},
   "outputs": [],
   "source": [
    "import os\n",
    "import numpy as np\n",
    "import pandas as pd\n",
    "import matplotlib.pyplot as plt\n",
    "\n",
    "import warnings\n",
    "warnings.filterwarnings(\"ignore\")"
   ]
  },
  {
   "cell_type": "markdown",
   "id": "1a2cb42f",
   "metadata": {},
   "source": [
    "### Load data"
   ]
  },
  {
   "cell_type": "code",
   "execution_count": 2,
   "id": "f4b5d4ee",
   "metadata": {},
   "outputs": [],
   "source": [
    "df_pivoted = pd.read_csv('./data/df_pivoted.csv.zip', low_memory=False)"
   ]
  },
  {
   "cell_type": "code",
   "execution_count": 3,
   "id": "bdf11053",
   "metadata": {},
   "outputs": [
    {
     "name": "stdout",
     "output_type": "stream",
     "text": [
      "(4605, 374) Index(['2009-12-01 00:00:00', '2009-12-02 00:00:00', '2009-12-03 00:00:00',\n",
      "       '2009-12-04 00:00:00', '2009-12-05 00:00:00', '2009-12-06 00:00:00',\n",
      "       '2009-12-07 00:00:00', '2009-12-08 00:00:00', '2009-12-09 00:00:00',\n",
      "       '2009-12-10 00:00:00',\n",
      "       ...\n",
      "       '2010-11-30 00:00:00', '2010-12-01 00:00:00', '2010-12-02 00:00:00',\n",
      "       '2010-12-03 00:00:00', '2010-12-04 00:00:00', '2010-12-05 00:00:00',\n",
      "       '2010-12-06 00:00:00', '2010-12-07 00:00:00', '2010-12-08 00:00:00',\n",
      "       '2010-12-09 00:00:00'],\n",
      "      dtype='object', length=374)\n"
     ]
    },
    {
     "data": {
      "text/html": [
       "<div>\n",
       "<style scoped>\n",
       "    .dataframe tbody tr th:only-of-type {\n",
       "        vertical-align: middle;\n",
       "    }\n",
       "\n",
       "    .dataframe tbody tr th {\n",
       "        vertical-align: top;\n",
       "    }\n",
       "\n",
       "    .dataframe thead th {\n",
       "        text-align: right;\n",
       "    }\n",
       "</style>\n",
       "<table border=\"1\" class=\"dataframe\">\n",
       "  <thead>\n",
       "    <tr style=\"text-align: right;\">\n",
       "      <th></th>\n",
       "      <th>2009-12-01 00:00:00</th>\n",
       "      <th>2009-12-02 00:00:00</th>\n",
       "      <th>2009-12-03 00:00:00</th>\n",
       "      <th>2009-12-04 00:00:00</th>\n",
       "      <th>2009-12-05 00:00:00</th>\n",
       "      <th>2009-12-06 00:00:00</th>\n",
       "      <th>2009-12-07 00:00:00</th>\n",
       "      <th>2009-12-08 00:00:00</th>\n",
       "      <th>2009-12-09 00:00:00</th>\n",
       "      <th>2009-12-10 00:00:00</th>\n",
       "      <th>...</th>\n",
       "      <th>2010-11-30 00:00:00</th>\n",
       "      <th>2010-12-01 00:00:00</th>\n",
       "      <th>2010-12-02 00:00:00</th>\n",
       "      <th>2010-12-03 00:00:00</th>\n",
       "      <th>2010-12-04 00:00:00</th>\n",
       "      <th>2010-12-05 00:00:00</th>\n",
       "      <th>2010-12-06 00:00:00</th>\n",
       "      <th>2010-12-07 00:00:00</th>\n",
       "      <th>2010-12-08 00:00:00</th>\n",
       "      <th>2010-12-09 00:00:00</th>\n",
       "    </tr>\n",
       "    <tr>\n",
       "      <th>StockCode</th>\n",
       "      <th></th>\n",
       "      <th></th>\n",
       "      <th></th>\n",
       "      <th></th>\n",
       "      <th></th>\n",
       "      <th></th>\n",
       "      <th></th>\n",
       "      <th></th>\n",
       "      <th></th>\n",
       "      <th></th>\n",
       "      <th></th>\n",
       "      <th></th>\n",
       "      <th></th>\n",
       "      <th></th>\n",
       "      <th></th>\n",
       "      <th></th>\n",
       "      <th></th>\n",
       "      <th></th>\n",
       "      <th></th>\n",
       "      <th></th>\n",
       "      <th></th>\n",
       "    </tr>\n",
       "  </thead>\n",
       "  <tbody>\n",
       "    <tr>\n",
       "      <th>10002</th>\n",
       "      <td>12.0</td>\n",
       "      <td>0.0</td>\n",
       "      <td>7.0</td>\n",
       "      <td>73.0</td>\n",
       "      <td>0.0</td>\n",
       "      <td>49.0</td>\n",
       "      <td>2.0</td>\n",
       "      <td>12.0</td>\n",
       "      <td>0.0</td>\n",
       "      <td>1.0</td>\n",
       "      <td>...</td>\n",
       "      <td>12.0</td>\n",
       "      <td>60.0</td>\n",
       "      <td>1.0</td>\n",
       "      <td>8.0</td>\n",
       "      <td>0.0</td>\n",
       "      <td>1.0</td>\n",
       "      <td>25.0</td>\n",
       "      <td>8.0</td>\n",
       "      <td>13.0</td>\n",
       "      <td>44.0</td>\n",
       "    </tr>\n",
       "    <tr>\n",
       "      <th>10080</th>\n",
       "      <td>0.0</td>\n",
       "      <td>1.0</td>\n",
       "      <td>0.0</td>\n",
       "      <td>3.0</td>\n",
       "      <td>0.0</td>\n",
       "      <td>0.0</td>\n",
       "      <td>0.0</td>\n",
       "      <td>0.0</td>\n",
       "      <td>0.0</td>\n",
       "      <td>0.0</td>\n",
       "      <td>...</td>\n",
       "      <td>0.0</td>\n",
       "      <td>0.0</td>\n",
       "      <td>0.0</td>\n",
       "      <td>0.0</td>\n",
       "      <td>0.0</td>\n",
       "      <td>0.0</td>\n",
       "      <td>0.0</td>\n",
       "      <td>0.0</td>\n",
       "      <td>0.0</td>\n",
       "      <td>0.0</td>\n",
       "    </tr>\n",
       "    <tr>\n",
       "      <th>10109</th>\n",
       "      <td>0.0</td>\n",
       "      <td>0.0</td>\n",
       "      <td>4.0</td>\n",
       "      <td>0.0</td>\n",
       "      <td>0.0</td>\n",
       "      <td>0.0</td>\n",
       "      <td>0.0</td>\n",
       "      <td>0.0</td>\n",
       "      <td>0.0</td>\n",
       "      <td>0.0</td>\n",
       "      <td>...</td>\n",
       "      <td>0.0</td>\n",
       "      <td>0.0</td>\n",
       "      <td>0.0</td>\n",
       "      <td>0.0</td>\n",
       "      <td>0.0</td>\n",
       "      <td>0.0</td>\n",
       "      <td>0.0</td>\n",
       "      <td>0.0</td>\n",
       "      <td>0.0</td>\n",
       "      <td>0.0</td>\n",
       "    </tr>\n",
       "    <tr>\n",
       "      <th>10120</th>\n",
       "      <td>60.0</td>\n",
       "      <td>10.0</td>\n",
       "      <td>0.0</td>\n",
       "      <td>30.0</td>\n",
       "      <td>0.0</td>\n",
       "      <td>0.0</td>\n",
       "      <td>0.0</td>\n",
       "      <td>1.0</td>\n",
       "      <td>1.0</td>\n",
       "      <td>6.0</td>\n",
       "      <td>...</td>\n",
       "      <td>10.0</td>\n",
       "      <td>0.0</td>\n",
       "      <td>0.0</td>\n",
       "      <td>3.0</td>\n",
       "      <td>0.0</td>\n",
       "      <td>0.0</td>\n",
       "      <td>0.0</td>\n",
       "      <td>0.0</td>\n",
       "      <td>12.0</td>\n",
       "      <td>0.0</td>\n",
       "    </tr>\n",
       "    <tr>\n",
       "      <th>10125</th>\n",
       "      <td>5.0</td>\n",
       "      <td>0.0</td>\n",
       "      <td>0.0</td>\n",
       "      <td>46.0</td>\n",
       "      <td>0.0</td>\n",
       "      <td>8.0</td>\n",
       "      <td>20.0</td>\n",
       "      <td>1.0</td>\n",
       "      <td>22.0</td>\n",
       "      <td>0.0</td>\n",
       "      <td>...</td>\n",
       "      <td>0.0</td>\n",
       "      <td>2.0</td>\n",
       "      <td>0.0</td>\n",
       "      <td>0.0</td>\n",
       "      <td>0.0</td>\n",
       "      <td>0.0</td>\n",
       "      <td>3.0</td>\n",
       "      <td>0.0</td>\n",
       "      <td>40.0</td>\n",
       "      <td>0.0</td>\n",
       "    </tr>\n",
       "  </tbody>\n",
       "</table>\n",
       "<p>5 rows × 374 columns</p>\n",
       "</div>"
      ],
      "text/plain": [
       "           2009-12-01 00:00:00  2009-12-02 00:00:00  2009-12-03 00:00:00  \\\n",
       "StockCode                                                                  \n",
       "10002                     12.0                  0.0                  7.0   \n",
       "10080                      0.0                  1.0                  0.0   \n",
       "10109                      0.0                  0.0                  4.0   \n",
       "10120                     60.0                 10.0                  0.0   \n",
       "10125                      5.0                  0.0                  0.0   \n",
       "\n",
       "           2009-12-04 00:00:00  2009-12-05 00:00:00  2009-12-06 00:00:00  \\\n",
       "StockCode                                                                  \n",
       "10002                     73.0                  0.0                 49.0   \n",
       "10080                      3.0                  0.0                  0.0   \n",
       "10109                      0.0                  0.0                  0.0   \n",
       "10120                     30.0                  0.0                  0.0   \n",
       "10125                     46.0                  0.0                  8.0   \n",
       "\n",
       "           2009-12-07 00:00:00  2009-12-08 00:00:00  2009-12-09 00:00:00  \\\n",
       "StockCode                                                                  \n",
       "10002                      2.0                 12.0                  0.0   \n",
       "10080                      0.0                  0.0                  0.0   \n",
       "10109                      0.0                  0.0                  0.0   \n",
       "10120                      0.0                  1.0                  1.0   \n",
       "10125                     20.0                  1.0                 22.0   \n",
       "\n",
       "           2009-12-10 00:00:00  ...  2010-11-30 00:00:00  2010-12-01 00:00:00  \\\n",
       "StockCode                       ...                                             \n",
       "10002                      1.0  ...                 12.0                 60.0   \n",
       "10080                      0.0  ...                  0.0                  0.0   \n",
       "10109                      0.0  ...                  0.0                  0.0   \n",
       "10120                      6.0  ...                 10.0                  0.0   \n",
       "10125                      0.0  ...                  0.0                  2.0   \n",
       "\n",
       "           2010-12-02 00:00:00  2010-12-03 00:00:00  2010-12-04 00:00:00  \\\n",
       "StockCode                                                                  \n",
       "10002                      1.0                  8.0                  0.0   \n",
       "10080                      0.0                  0.0                  0.0   \n",
       "10109                      0.0                  0.0                  0.0   \n",
       "10120                      0.0                  3.0                  0.0   \n",
       "10125                      0.0                  0.0                  0.0   \n",
       "\n",
       "           2010-12-05 00:00:00  2010-12-06 00:00:00  2010-12-07 00:00:00  \\\n",
       "StockCode                                                                  \n",
       "10002                      1.0                 25.0                  8.0   \n",
       "10080                      0.0                  0.0                  0.0   \n",
       "10109                      0.0                  0.0                  0.0   \n",
       "10120                      0.0                  0.0                  0.0   \n",
       "10125                      0.0                  3.0                  0.0   \n",
       "\n",
       "           2010-12-08 00:00:00  2010-12-09 00:00:00  \n",
       "StockCode                                            \n",
       "10002                     13.0                 44.0  \n",
       "10080                      0.0                  0.0  \n",
       "10109                      0.0                  0.0  \n",
       "10120                     12.0                  0.0  \n",
       "10125                     40.0                  0.0  \n",
       "\n",
       "[5 rows x 374 columns]"
      ]
     },
     "execution_count": 3,
     "metadata": {},
     "output_type": "execute_result"
    }
   ],
   "source": [
    "# prepare data to laod to tslearn time_series_dataset object\n",
    "df_pivoted.set_index('StockCode', inplace=True)\n",
    "\n",
    "print(df_pivoted.shape, df_pivoted.columns)\n",
    "\n",
    "df_pivoted.head()"
   ]
  },
  {
   "cell_type": "markdown",
   "id": "8cc9e17c",
   "metadata": {},
   "source": [
    "## DTW KMeans Clustering"
   ]
  },
  {
   "cell_type": "raw",
   "id": "6c0b978c",
   "metadata": {
    "scrolled": true
   },
   "source": [
    "%pip install tslearn"
   ]
  },
  {
   "cell_type": "code",
   "execution_count": 4,
   "id": "957dfd7d",
   "metadata": {},
   "outputs": [],
   "source": [
    "from tslearn.utils import to_time_series_dataset\n",
    "from tslearn.preprocessing import TimeSeriesScalerMeanVariance\n",
    "from tslearn.clustering import TimeSeriesKMeans, silhouette_score"
   ]
  },
  {
   "cell_type": "code",
   "execution_count": 5,
   "id": "bd957d45",
   "metadata": {},
   "outputs": [
    {
     "name": "stdout",
     "output_type": "stream",
     "text": [
      "(4605, 374, 1) (4605, 374, 1)\n",
      "CPU times: user 489 ms, sys: 50.5 ms, total: 539 ms\n",
      "Wall time: 534 ms\n"
     ]
    }
   ],
   "source": [
    "%%time\n",
    "\n",
    "# convert dataframe to time_series_dataset\n",
    "X = to_time_series_dataset(df_pivoted.values)\n",
    "\n",
    "# normalize time series to zero mean and unit variance\n",
    "X_train = TimeSeriesScalerMeanVariance().fit_transform(X)\n",
    "\n",
    "print(X.shape, X_train.shape)"
   ]
  },
  {
   "cell_type": "code",
   "execution_count": 6,
   "id": "cdf0a874",
   "metadata": {},
   "outputs": [],
   "source": [
    "# create required directory structure\n",
    "dir_paths = ['./tsl', './tsl/models', './tsl/plots']\n",
    "\n",
    "for dir_path in dir_paths:\n",
    "    if not os.path.exists(dir_path):\n",
    "        os.makedirs(dir_path)"
   ]
  },
  {
   "cell_type": "markdown",
   "id": "2f26a12a",
   "metadata": {},
   "source": [
    "### Perform clustering\n",
    "\n",
    "With 12 cores, the clustering operation can take roughly half an hour. Your mileage may vary depending on your machine's configuration."
   ]
  },
  {
   "cell_type": "code",
   "execution_count": 7,
   "id": "7c44eced",
   "metadata": {
    "scrolled": true
   },
   "outputs": [
    {
     "name": "stdout",
     "output_type": "stream",
     "text": [
      "CPU times: user 1h 43min 55s, sys: 1h 3min 1s, total: 2h 46min 56s\n",
      "Wall time: 29min 13s\n"
     ]
    }
   ],
   "source": [
    "%%time\n",
    "\n",
    "# algorithm configuration\n",
    "algo = \"DTW_kmeans\"\n",
    "metric = \"dtw\"\n",
    "\n",
    "# cluster configuration\n",
    "N_CLUSTERS = 3\n",
    "NUM_CPU = 12\n",
    "\n",
    "model= TimeSeriesKMeans(n_clusters=N_CLUSTERS,\n",
    "                        metric=metric,\n",
    "                        n_jobs=NUM_CPU,\n",
    "                        random_state=0)\n",
    "\n",
    "y_pred = model.fit_predict(X_train)\n",
    "\n",
    "model.to_pickle(f\"./tsl/models/{algo}.pkl\")"
   ]
  },
  {
   "cell_type": "code",
   "execution_count": 8,
   "id": "b4796db0",
   "metadata": {},
   "outputs": [],
   "source": [
    "# backup clustering results\n",
    "np.save(f\"./data/tls_{algo}_cluster_labels\", y_pred)"
   ]
  },
  {
   "cell_type": "markdown",
   "id": "346457ff",
   "metadata": {},
   "source": [
    "Let us plot the different clusters to visually inspect the homogeneity of the cluster composition."
   ]
  },
  {
   "cell_type": "code",
   "execution_count": 9,
   "id": "8ed105e0",
   "metadata": {},
   "outputs": [
    {
     "data": {
      "image/png": "[encoded data removed]",
      "text/plain": [
       "<Figure size 432x288 with 1 Axes>"
      ]
     },
     "metadata": {
      "needs_background": "light"
     },
     "output_type": "display_data"
    },
    {
     "data": {
      "image/png": "[encoded data removed]",
      "text/plain": [
       "<Figure size 432x288 with 1 Axes>"
      ]
     },
     "metadata": {
      "needs_background": "light"
     },
     "output_type": "display_data"
    },
    {
     "data": {
      "image/png": "[encoded data removed]",
      "text/plain": [
       "<Figure size 432x288 with 1 Axes>"
      ]
     },
     "metadata": {
      "needs_background": "light"
     },
     "output_type": "display_data"
    },
    {
     "name": "stdout",
     "output_type": "stream",
     "text": [
      "CPU times: user 11.1 s, sys: 26.8 ms, total: 11.1 s\n",
      "Wall time: 11.3 s\n"
     ]
    }
   ],
   "source": [
    "%%time\n",
    "\n",
    "for yi in range(N_CLUSTERS):\n",
    "    X_sub = X_train[y_pred == yi]\n",
    "    ts_cnt = pd.Series(y_pred[y_pred == yi]).shape[0]\n",
    "    fig = plt.figure()\n",
    "    plt.title(f\"{algo} | Cluster ID: {yi} | TS Count: {ts_cnt}\")\n",
    "    for xx in X_sub:\n",
    "        plt.plot(xx.ravel(), color='xkcd:sky blue', alpha=0.025)\n",
    "    fig.savefig(f\"./tsl/plots/{algo}_cls_lbl_{yi}.png\", dpi=150)\n",
    "    plt.show()\n",
    "    plt.close()"
   ]
  },
  {
   "cell_type": "markdown",
   "id": "6a50109a",
   "metadata": {},
   "source": [
    "## Generate TTS for different clusters\n",
    "\n",
    "We can now split the TTS into clusters based on the labels for the different items"
   ]
  },
  {
   "cell_type": "code",
   "execution_count": 11,
   "id": "4c5191c4",
   "metadata": {},
   "outputs": [
    {
     "name": "stdout",
     "output_type": "stream",
     "text": [
      "(1722270, 3) item_id          object\n",
      "timestamp        object\n",
      "target_value    float64\n",
      "dtype: object\n"
     ]
    },
    {
     "data": {
      "text/html": [
       "<div>\n",
       "<style scoped>\n",
       "    .dataframe tbody tr th:only-of-type {\n",
       "        vertical-align: middle;\n",
       "    }\n",
       "\n",
       "    .dataframe tbody tr th {\n",
       "        vertical-align: top;\n",
       "    }\n",
       "\n",
       "    .dataframe thead th {\n",
       "        text-align: right;\n",
       "    }\n",
       "</style>\n",
       "<table border=\"1\" class=\"dataframe\">\n",
       "  <thead>\n",
       "    <tr style=\"text-align: right;\">\n",
       "      <th></th>\n",
       "      <th>item_id</th>\n",
       "      <th>timestamp</th>\n",
       "      <th>target_value</th>\n",
       "    </tr>\n",
       "  </thead>\n",
       "  <tbody>\n",
       "    <tr>\n",
       "      <th>0</th>\n",
       "      <td>10002</td>\n",
       "      <td>2009-12-01</td>\n",
       "      <td>12.0</td>\n",
       "    </tr>\n",
       "    <tr>\n",
       "      <th>1</th>\n",
       "      <td>10080</td>\n",
       "      <td>2009-12-01</td>\n",
       "      <td>0.0</td>\n",
       "    </tr>\n",
       "    <tr>\n",
       "      <th>2</th>\n",
       "      <td>10109</td>\n",
       "      <td>2009-12-01</td>\n",
       "      <td>0.0</td>\n",
       "    </tr>\n",
       "    <tr>\n",
       "      <th>3</th>\n",
       "      <td>10120</td>\n",
       "      <td>2009-12-01</td>\n",
       "      <td>60.0</td>\n",
       "    </tr>\n",
       "    <tr>\n",
       "      <th>4</th>\n",
       "      <td>10125</td>\n",
       "      <td>2009-12-01</td>\n",
       "      <td>5.0</td>\n",
       "    </tr>\n",
       "  </tbody>\n",
       "</table>\n",
       "</div>"
      ],
      "text/plain": [
       "  item_id   timestamp  target_value\n",
       "0   10002  2009-12-01          12.0\n",
       "1   10080  2009-12-01           0.0\n",
       "2   10109  2009-12-01           0.0\n",
       "3   10120  2009-12-01          60.0\n",
       "4   10125  2009-12-01           5.0"
      ]
     },
     "execution_count": 11,
     "metadata": {},
     "output_type": "execute_result"
    }
   ],
   "source": [
    "# convert data to TTS format expected by Forecast service\n",
    "df_pivoted.reset_index(inplace=True)\n",
    "\n",
    "df_tts = pd.melt(df_pivoted, id_vars=['StockCode'])\n",
    "df_tts.columns = ['item_id', 'timestamp', 'target_value']\n",
    "df_tts['timestamp'] = df_tts['timestamp'].str[:10]  # keep only the date part\n",
    "\n",
    "print(df_tts.shape, df_tts.dtypes)\n",
    "\n",
    "df_tts.head()"
   ]
  },
  {
   "cell_type": "code",
   "execution_count": 12,
   "id": "07dfcdc5",
   "metadata": {},
   "outputs": [
    {
     "data": {
      "text/plain": [
       "('2009-12-01', '2010-12-09')"
      ]
     },
     "execution_count": 12,
     "metadata": {},
     "output_type": "execute_result"
    }
   ],
   "source": [
    "min(df_tts['timestamp']), max(df_tts['timestamp'])"
   ]
  },
  {
   "cell_type": "markdown",
   "id": "91921d63",
   "metadata": {},
   "source": [
    "### Train - Hold-out Split\n",
    "\n",
    "Hold-out set offers a way for verifying model performance on unseen data. With this dataset, we are looking to forecast a week out (Forecast Horizon = 1 Week) and therefore leave out a week worth of data out from the TTS as holdout set."
   ]
  },
  {
   "cell_type": "code",
   "execution_count": 13,
   "id": "2e82b2d8",
   "metadata": {},
   "outputs": [
    {
     "data": {
      "text/plain": [
       "((1722270, 3), (1690035, 3), (32235, 3))"
      ]
     },
     "execution_count": 13,
     "metadata": {},
     "output_type": "execute_result"
    }
   ],
   "source": [
    "df_train = df_tts[df_tts['timestamp'] < '2010-12-03']\n",
    "df_test = df_tts[df_tts['timestamp'] > '2010-12-02']\n",
    "\n",
    "df_tts.shape, df_train.shape, df_test.shape"
   ]
  },
  {
   "cell_type": "code",
   "execution_count": 14,
   "id": "a0e1647f",
   "metadata": {},
   "outputs": [
    {
     "data": {
      "text/plain": [
       "(4605, 4605, 4605)"
      ]
     },
     "execution_count": 14,
     "metadata": {},
     "output_type": "execute_result"
    }
   ],
   "source": [
    "# verify that we have adequate coverage across train and test\n",
    "df_tts.item_id.nunique(), df_train.item_id.nunique(), df_test.item_id.nunique()"
   ]
  },
  {
   "cell_type": "markdown",
   "id": "e324c2c2",
   "metadata": {},
   "source": [
    "## Split data into clusters"
   ]
  },
  {
   "cell_type": "code",
   "execution_count": 15,
   "id": "f436b639",
   "metadata": {},
   "outputs": [
    {
     "name": "stdout",
     "output_type": "stream",
     "text": [
      "[1 0 2 ... 2 0 0]\n"
     ]
    }
   ],
   "source": [
    "# if restarting, reload the cluster labels\n",
    "y_pred = np.load(f\"./data/tls_{algo}_cluster_labels.npy\")\n",
    "\n",
    "print(y_pred)"
   ]
  },
  {
   "cell_type": "code",
   "execution_count": 18,
   "id": "e55a436c",
   "metadata": {},
   "outputs": [
    {
     "data": {
      "text/plain": [
       "((4605, 2),\n",
       " item_id    object\n",
       " label       int64\n",
       " dtype: object)"
      ]
     },
     "execution_count": 18,
     "metadata": {},
     "output_type": "execute_result"
    }
   ],
   "source": [
    "# lookup dataframe with item_ids and corresponding labels\n",
    "df_lbl = pd.DataFrame()\n",
    "df_lbl['item_id'] = df_pivoted['StockCode']\n",
    "df_lbl['label'] = y_pred\n",
    "\n",
    "df_lbl.shape, df_lbl.dtypes"
   ]
  },
  {
   "cell_type": "code",
   "execution_count": 20,
   "id": "3e0de179",
   "metadata": {
    "scrolled": true
   },
   "outputs": [
    {
     "name": "stdout",
     "output_type": "stream",
     "text": [
      "(1690035, 4) (1690035, 3)\n"
     ]
    }
   ],
   "source": [
    "# merge labels back to the TTS\n",
    "df_mrg = df_train.merge(df_lbl, how='left')\n",
    "\n",
    "print(df_mrg.shape, df_train.shape)"
   ]
  },
  {
   "cell_type": "code",
   "execution_count": 21,
   "id": "eb4e480a",
   "metadata": {},
   "outputs": [
    {
     "data": {
      "text/html": [
       "<div>\n",
       "<style scoped>\n",
       "    .dataframe tbody tr th:only-of-type {\n",
       "        vertical-align: middle;\n",
       "    }\n",
       "\n",
       "    .dataframe tbody tr th {\n",
       "        vertical-align: top;\n",
       "    }\n",
       "\n",
       "    .dataframe thead th {\n",
       "        text-align: right;\n",
       "    }\n",
       "</style>\n",
       "<table border=\"1\" class=\"dataframe\">\n",
       "  <thead>\n",
       "    <tr style=\"text-align: right;\">\n",
       "      <th></th>\n",
       "      <th>item_id</th>\n",
       "      <th>timestamp</th>\n",
       "      <th>target_value</th>\n",
       "      <th>label</th>\n",
       "    </tr>\n",
       "  </thead>\n",
       "  <tbody>\n",
       "    <tr>\n",
       "      <th>1412154</th>\n",
       "      <td>16244B</td>\n",
       "      <td>2010-10-03</td>\n",
       "      <td>0.0</td>\n",
       "      <td>0</td>\n",
       "    </tr>\n",
       "    <tr>\n",
       "      <th>625843</th>\n",
       "      <td>85131C</td>\n",
       "      <td>2010-04-15</td>\n",
       "      <td>0.0</td>\n",
       "      <td>0</td>\n",
       "    </tr>\n",
       "    <tr>\n",
       "      <th>802738</th>\n",
       "      <td>22272</td>\n",
       "      <td>2010-05-24</td>\n",
       "      <td>2.0</td>\n",
       "      <td>1</td>\n",
       "    </tr>\n",
       "    <tr>\n",
       "      <th>285289</th>\n",
       "      <td>90065A</td>\n",
       "      <td>2010-01-31</td>\n",
       "      <td>0.0</td>\n",
       "      <td>2</td>\n",
       "    </tr>\n",
       "    <tr>\n",
       "      <th>1178426</th>\n",
       "      <td>85123b</td>\n",
       "      <td>2010-08-13</td>\n",
       "      <td>0.0</td>\n",
       "      <td>0</td>\n",
       "    </tr>\n",
       "  </tbody>\n",
       "</table>\n",
       "</div>"
      ],
      "text/plain": [
       "        item_id   timestamp  target_value  label\n",
       "1412154  16244B  2010-10-03           0.0      0\n",
       "625843   85131C  2010-04-15           0.0      0\n",
       "802738    22272  2010-05-24           2.0      1\n",
       "285289   90065A  2010-01-31           0.0      2\n",
       "1178426  85123b  2010-08-13           0.0      0"
      ]
     },
     "execution_count": 21,
     "metadata": {},
     "output_type": "execute_result"
    }
   ],
   "source": [
    "df_mrg.sample(5)"
   ]
  },
  {
   "cell_type": "code",
   "execution_count": 22,
   "id": "23731b02",
   "metadata": {},
   "outputs": [],
   "source": [
    "# create required directory structure\n",
    "dir_paths = ['./train', './train/cls_01', './train/cls_02', './train/cls_03']\n",
    "\n",
    "for dir_path in dir_paths:\n",
    "    if not os.path.exists(dir_path):\n",
    "        os.makedirs(dir_path)"
   ]
  },
  {
   "cell_type": "code",
   "execution_count": 23,
   "id": "cfa8be6f",
   "metadata": {},
   "outputs": [],
   "source": [
    "# split and save TTS\n",
    "record_count = 0\n",
    "for i in range(N_CLUSTERS):\n",
    "    df_tmp = df_mrg[['item_id', 'timestamp', 'target_value']][df_mrg['label']==i]\n",
    "    df_tmp.to_csv(f\"./train/cls_0{i+1}/tts_{i+1}.csv\", header=None, index=None)\n",
    "    record_count += df_tmp.shape[0]\n",
    "    \n",
    "assert record_count == df_mrg.shape[0]"
   ]
  },
  {
   "cell_type": "markdown",
   "id": "7cc53df7",
   "metadata": {},
   "source": [
    "### Processing Complete\n",
    "\n",
    "These TTS files can now be uploaded to S3 and used to train Forecast models as demonstrated in the following notebooks: https://github.com/aws-samples/amazon-forecast-samples/tree/master/notebooks/basic/Tutorial"
   ]
  }
 ],
 "metadata": {
  "kernelspec": {
   "display_name": "conda_python3",
   "language": "python",
   "name": "conda_python3"
  },
  "language_info": {
   "codemirror_mode": {
    "name": "ipython",
    "version": 3
   },
   "file_extension": ".py",
   "mimetype": "text/x-python",
   "name": "python",
   "nbconvert_exporter": "python",
   "pygments_lexer": "ipython3",
   "version": "3.6.13"
  }
 },
 "nbformat": 4,
 "nbformat_minor": 5
}
